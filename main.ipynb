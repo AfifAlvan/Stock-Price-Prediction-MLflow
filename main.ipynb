{
 "cells": [
  {
   "cell_type": "markdown",
   "id": "41fc9c6b",
   "metadata": {},
   "source": [
    "Name : Muhammad Afif Alvan\n",
    "\n",
    "Role : Machine Learning Engineer"
   ]
  },
  {
   "cell_type": "markdown",
   "id": "3491f968",
   "metadata": {},
   "source": [
    "## 📘 Deskripsi Proyek\n",
    "\n",
    "Notebook ini dibuat sebagai bagian dari *Technical Test: Stock Price Forecasting*, dengan tujuan membangun dan mengevaluasi model *machine learning* untuk memprediksi harga penutupan (*closing price*) harian saham Indonesia pada hari berikutnya.  \n",
    "\n",
    "Proyek ini tidak hanya menekankan pada pengembangan model yang akurat, tetapi juga pada penerapan praktik **MLOps**, khususnya dalam hal pelacakan eksperimen dan manajemen model menggunakan **MLflow**.\n",
    "\n",
    "---\n",
    "\n",
    "## 🎯 Tujuan Proyek\n",
    "\n",
    "1. Mengembangkan model *machine learning* untuk memprediksi harga penutupan saham Indonesia untuk hari berikutnya berdasarkan data historis.\n",
    "\n",
    "2. Menerapkan praktik **MLOps** dengan mengintegrasikan **MLflow** atau **Comet** untuk:\n",
    "   - Melacak eksperimen (parameter, metrik, *artifact*).\n",
    "   - Menyimpan dan mengelola versi model.\n",
    "   - Menjaga kualitas kode yang baik, modular, dan mudah direproduksi atau dikembangkan lebih lanjut.\n",
    "\n",
    "3. Memberikan hasil dan visualisasi yang informatif untuk membantu interpretasi model dan performanya.\n"
   ]
  },
  {
   "cell_type": "markdown",
   "id": "c68a384c",
   "metadata": {},
   "source": [
    "# Install Depedensi"
   ]
  },
  {
   "cell_type": "code",
   "execution_count": 1,
   "id": "a967f3c6",
   "metadata": {},
   "outputs": [
    {
     "name": "stdout",
     "output_type": "stream",
     "text": [
      "Requirement already satisfied: yfinance in c:\\users\\afifa\\appdata\\local\\programs\\python\\python313\\lib\\site-packages (0.2.65)\n",
      "Requirement already satisfied: pandas>=1.3.0 in c:\\users\\afifa\\appdata\\local\\programs\\python\\python313\\lib\\site-packages (from yfinance) (2.2.3)\n",
      "Requirement already satisfied: numpy>=1.16.5 in c:\\users\\afifa\\appdata\\local\\programs\\python\\python313\\lib\\site-packages (from yfinance) (2.3.2)\n",
      "Requirement already satisfied: requests>=2.31 in c:\\users\\afifa\\appdata\\local\\programs\\python\\python313\\lib\\site-packages (from yfinance) (2.32.3)\n",
      "Requirement already satisfied: multitasking>=0.0.7 in c:\\users\\afifa\\appdata\\local\\programs\\python\\python313\\lib\\site-packages (from yfinance) (0.0.12)\n",
      "Requirement already satisfied: platformdirs>=2.0.0 in c:\\users\\afifa\\appdata\\roaming\\python\\python313\\site-packages (from yfinance) (4.3.8)\n",
      "Requirement already satisfied: pytz>=2022.5 in c:\\users\\afifa\\appdata\\local\\programs\\python\\python313\\lib\\site-packages (from yfinance) (2025.2)\n",
      "Requirement already satisfied: frozendict>=2.3.4 in c:\\users\\afifa\\appdata\\local\\programs\\python\\python313\\lib\\site-packages (from yfinance) (2.4.6)\n",
      "Requirement already satisfied: peewee>=3.16.2 in c:\\users\\afifa\\appdata\\local\\programs\\python\\python313\\lib\\site-packages (from yfinance) (3.18.2)\n",
      "Requirement already satisfied: beautifulsoup4>=4.11.1 in c:\\users\\afifa\\appdata\\local\\programs\\python\\python313\\lib\\site-packages (from yfinance) (4.13.4)\n",
      "Requirement already satisfied: curl_cffi>=0.7 in c:\\users\\afifa\\appdata\\local\\programs\\python\\python313\\lib\\site-packages (from yfinance) (0.12.0)\n",
      "Requirement already satisfied: protobuf>=3.19.0 in c:\\users\\afifa\\appdata\\local\\programs\\python\\python313\\lib\\site-packages (from yfinance) (6.30.2)\n",
      "Requirement already satisfied: websockets>=13.0 in c:\\users\\afifa\\appdata\\local\\programs\\python\\python313\\lib\\site-packages (from yfinance) (15.0.1)\n",
      "Requirement already satisfied: soupsieve>1.2 in c:\\users\\afifa\\appdata\\local\\programs\\python\\python313\\lib\\site-packages (from beautifulsoup4>=4.11.1->yfinance) (2.7)\n",
      "Requirement already satisfied: typing-extensions>=4.0.0 in c:\\users\\afifa\\appdata\\local\\programs\\python\\python313\\lib\\site-packages (from beautifulsoup4>=4.11.1->yfinance) (4.13.0)\n",
      "Requirement already satisfied: cffi>=1.12.0 in c:\\users\\afifa\\appdata\\local\\programs\\python\\python313\\lib\\site-packages (from curl_cffi>=0.7->yfinance) (1.17.1)\n",
      "Requirement already satisfied: certifi>=2024.2.2 in c:\\users\\afifa\\appdata\\local\\programs\\python\\python313\\lib\\site-packages (from curl_cffi>=0.7->yfinance) (2025.1.31)\n",
      "Requirement already satisfied: pycparser in c:\\users\\afifa\\appdata\\local\\programs\\python\\python313\\lib\\site-packages (from cffi>=1.12.0->curl_cffi>=0.7->yfinance) (2.22)\n",
      "Requirement already satisfied: python-dateutil>=2.8.2 in c:\\users\\afifa\\appdata\\local\\programs\\python\\python313\\lib\\site-packages (from pandas>=1.3.0->yfinance) (2.9.0.post0)\n",
      "Requirement already satisfied: tzdata>=2022.7 in c:\\users\\afifa\\appdata\\local\\programs\\python\\python313\\lib\\site-packages (from pandas>=1.3.0->yfinance) (2025.2)\n",
      "Requirement already satisfied: six>=1.5 in c:\\users\\afifa\\appdata\\local\\programs\\python\\python313\\lib\\site-packages (from python-dateutil>=2.8.2->pandas>=1.3.0->yfinance) (1.17.0)\n",
      "Requirement already satisfied: charset-normalizer<4,>=2 in c:\\users\\afifa\\appdata\\local\\programs\\python\\python313\\lib\\site-packages (from requests>=2.31->yfinance) (3.4.1)\n",
      "Requirement already satisfied: idna<4,>=2.5 in c:\\users\\afifa\\appdata\\local\\programs\\python\\python313\\lib\\site-packages (from requests>=2.31->yfinance) (3.10)\n",
      "Requirement already satisfied: urllib3<3,>=1.21.1 in c:\\users\\afifa\\appdata\\local\\programs\\python\\python313\\lib\\site-packages (from requests>=2.31->yfinance) (2.3.0)\n",
      "Note: you may need to restart the kernel to use updated packages.\n"
     ]
    }
   ],
   "source": [
    "pip install yfinance"
   ]
  },
  {
   "cell_type": "code",
   "execution_count": 57,
   "id": "fd6db2fd",
   "metadata": {},
   "outputs": [
    {
     "name": "stdout",
     "output_type": "stream",
     "text": [
      "Requirement already satisfied: mplfinance in c:\\users\\afifa\\appdata\\local\\programs\\python\\python313\\lib\\site-packages (0.12.10b0)\n",
      "Requirement already satisfied: matplotlib in c:\\users\\afifa\\appdata\\local\\programs\\python\\python313\\lib\\site-packages (from mplfinance) (3.10.1)\n",
      "Requirement already satisfied: pandas in c:\\users\\afifa\\appdata\\local\\programs\\python\\python313\\lib\\site-packages (from mplfinance) (2.2.3)\n",
      "Requirement already satisfied: contourpy>=1.0.1 in c:\\users\\afifa\\appdata\\local\\programs\\python\\python313\\lib\\site-packages (from matplotlib->mplfinance) (1.3.2)\n",
      "Requirement already satisfied: cycler>=0.10 in c:\\users\\afifa\\appdata\\local\\programs\\python\\python313\\lib\\site-packages (from matplotlib->mplfinance) (0.12.1)\n",
      "Requirement already satisfied: fonttools>=4.22.0 in c:\\users\\afifa\\appdata\\local\\programs\\python\\python313\\lib\\site-packages (from matplotlib->mplfinance) (4.57.0)\n",
      "Requirement already satisfied: kiwisolver>=1.3.1 in c:\\users\\afifa\\appdata\\local\\programs\\python\\python313\\lib\\site-packages (from matplotlib->mplfinance) (1.4.8)\n",
      "Requirement already satisfied: numpy>=1.23 in c:\\users\\afifa\\appdata\\local\\programs\\python\\python313\\lib\\site-packages (from matplotlib->mplfinance) (2.2.5)\n",
      "Requirement already satisfied: packaging>=20.0 in c:\\users\\afifa\\appdata\\local\\programs\\python\\python313\\lib\\site-packages (from matplotlib->mplfinance) (24.2)\n",
      "Requirement already satisfied: pillow>=8 in c:\\users\\afifa\\appdata\\local\\programs\\python\\python313\\lib\\site-packages (from matplotlib->mplfinance) (11.2.1)\n",
      "Requirement already satisfied: pyparsing>=2.3.1 in c:\\users\\afifa\\appdata\\local\\programs\\python\\python313\\lib\\site-packages (from matplotlib->mplfinance) (3.2.3)\n",
      "Requirement already satisfied: python-dateutil>=2.7 in c:\\users\\afifa\\appdata\\local\\programs\\python\\python313\\lib\\site-packages (from matplotlib->mplfinance) (2.9.0.post0)\n",
      "Requirement already satisfied: pytz>=2020.1 in c:\\users\\afifa\\appdata\\local\\programs\\python\\python313\\lib\\site-packages (from pandas->mplfinance) (2025.2)\n",
      "Requirement already satisfied: tzdata>=2022.7 in c:\\users\\afifa\\appdata\\local\\programs\\python\\python313\\lib\\site-packages (from pandas->mplfinance) (2025.2)\n",
      "Requirement already satisfied: six>=1.5 in c:\\users\\afifa\\appdata\\local\\programs\\python\\python313\\lib\\site-packages (from python-dateutil>=2.7->matplotlib->mplfinance) (1.17.0)\n",
      "Note: you may need to restart the kernel to use updated packages.\n"
     ]
    },
    {
     "name": "stderr",
     "output_type": "stream",
     "text": [
      "\n",
      "[notice] A new release of pip is available: 24.3.1 -> 25.2\n",
      "[notice] To update, run: python.exe -m pip install --upgrade pip\n"
     ]
    }
   ],
   "source": [
    "pip install mplfinance\n"
   ]
  },
  {
   "cell_type": "code",
   "execution_count": 58,
   "id": "ee8d4a58",
   "metadata": {},
   "outputs": [
    {
     "name": "stdout",
     "output_type": "stream",
     "text": [
      "Requirement already satisfied: mlflow in c:\\users\\afifa\\appdata\\local\\programs\\python\\python313\\lib\\site-packages (3.1.4)\n",
      "Requirement already satisfied: mlflow-skinny==3.1.4 in c:\\users\\afifa\\appdata\\local\\programs\\python\\python313\\lib\\site-packages (from mlflow) (3.1.4)\n",
      "Requirement already satisfied: Flask<4 in c:\\users\\afifa\\appdata\\local\\programs\\python\\python313\\lib\\site-packages (from mlflow) (3.1.0)\n",
      "Requirement already satisfied: alembic!=1.10.0,<2 in c:\\users\\afifa\\appdata\\local\\programs\\python\\python313\\lib\\site-packages (from mlflow) (1.15.1)\n",
      "Requirement already satisfied: docker<8,>=4.0.0 in c:\\users\\afifa\\appdata\\local\\programs\\python\\python313\\lib\\site-packages (from mlflow) (7.1.0)\n",
      "Requirement already satisfied: graphene<4 in c:\\users\\afifa\\appdata\\local\\programs\\python\\python313\\lib\\site-packages (from mlflow) (3.4.3)\n",
      "Requirement already satisfied: matplotlib<4 in c:\\users\\afifa\\appdata\\local\\programs\\python\\python313\\lib\\site-packages (from mlflow) (3.10.1)\n",
      "Requirement already satisfied: numpy<3 in c:\\users\\afifa\\appdata\\local\\programs\\python\\python313\\lib\\site-packages (from mlflow) (2.2.5)\n",
      "Requirement already satisfied: pandas<3 in c:\\users\\afifa\\appdata\\local\\programs\\python\\python313\\lib\\site-packages (from mlflow) (2.2.3)\n",
      "Requirement already satisfied: pyarrow<21,>=4.0.0 in c:\\users\\afifa\\appdata\\local\\programs\\python\\python313\\lib\\site-packages (from mlflow) (20.0.0)\n",
      "Requirement already satisfied: scikit-learn<2 in c:\\users\\afifa\\appdata\\local\\programs\\python\\python313\\lib\\site-packages (from mlflow) (1.6.1)\n",
      "Requirement already satisfied: scipy<2 in c:\\users\\afifa\\appdata\\local\\programs\\python\\python313\\lib\\site-packages (from mlflow) (1.15.3)\n",
      "Requirement already satisfied: sqlalchemy<3,>=1.4.0 in c:\\users\\afifa\\appdata\\local\\programs\\python\\python313\\lib\\site-packages (from mlflow) (2.0.39)\n",
      "Requirement already satisfied: waitress<4 in c:\\users\\afifa\\appdata\\local\\programs\\python\\python313\\lib\\site-packages (from mlflow) (3.0.2)\n",
      "Requirement already satisfied: cachetools<7,>=5.0.0 in c:\\users\\afifa\\appdata\\local\\programs\\python\\python313\\lib\\site-packages (from mlflow-skinny==3.1.4->mlflow) (5.5.2)\n",
      "Requirement already satisfied: click<9,>=7.0 in c:\\users\\afifa\\appdata\\local\\programs\\python\\python313\\lib\\site-packages (from mlflow-skinny==3.1.4->mlflow) (8.1.8)\n",
      "Requirement already satisfied: cloudpickle<4 in c:\\users\\afifa\\appdata\\local\\programs\\python\\python313\\lib\\site-packages (from mlflow-skinny==3.1.4->mlflow) (3.1.1)\n",
      "Requirement already satisfied: databricks-sdk<1,>=0.20.0 in c:\\users\\afifa\\appdata\\local\\programs\\python\\python313\\lib\\site-packages (from mlflow-skinny==3.1.4->mlflow) (0.61.0)\n",
      "Requirement already satisfied: fastapi<1 in c:\\users\\afifa\\appdata\\local\\programs\\python\\python313\\lib\\site-packages (from mlflow-skinny==3.1.4->mlflow) (0.116.1)\n",
      "Requirement already satisfied: gitpython<4,>=3.1.9 in c:\\users\\afifa\\appdata\\local\\programs\\python\\python313\\lib\\site-packages (from mlflow-skinny==3.1.4->mlflow) (3.1.44)\n",
      "Requirement already satisfied: importlib_metadata!=4.7.0,<9,>=3.7.0 in c:\\users\\afifa\\appdata\\local\\programs\\python\\python313\\lib\\site-packages (from mlflow-skinny==3.1.4->mlflow) (8.7.0)\n",
      "Requirement already satisfied: opentelemetry-api<3,>=1.9.0 in c:\\users\\afifa\\appdata\\local\\programs\\python\\python313\\lib\\site-packages (from mlflow-skinny==3.1.4->mlflow) (1.36.0)\n",
      "Requirement already satisfied: opentelemetry-sdk<3,>=1.9.0 in c:\\users\\afifa\\appdata\\local\\programs\\python\\python313\\lib\\site-packages (from mlflow-skinny==3.1.4->mlflow) (1.36.0)\n",
      "Requirement already satisfied: packaging<26 in c:\\users\\afifa\\appdata\\local\\programs\\python\\python313\\lib\\site-packages (from mlflow-skinny==3.1.4->mlflow) (24.2)\n",
      "Requirement already satisfied: protobuf<7,>=3.12.0 in c:\\users\\afifa\\appdata\\local\\programs\\python\\python313\\lib\\site-packages (from mlflow-skinny==3.1.4->mlflow) (6.30.2)\n",
      "Requirement already satisfied: pydantic<3,>=1.10.8 in c:\\users\\afifa\\appdata\\local\\programs\\python\\python313\\lib\\site-packages (from mlflow-skinny==3.1.4->mlflow) (2.11.3)\n",
      "Requirement already satisfied: pyyaml<7,>=5.1 in c:\\users\\afifa\\appdata\\local\\programs\\python\\python313\\lib\\site-packages (from mlflow-skinny==3.1.4->mlflow) (6.0.2)\n",
      "Requirement already satisfied: requests<3,>=2.17.3 in c:\\users\\afifa\\appdata\\local\\programs\\python\\python313\\lib\\site-packages (from mlflow-skinny==3.1.4->mlflow) (2.32.3)\n",
      "Requirement already satisfied: sqlparse<1,>=0.4.0 in c:\\users\\afifa\\appdata\\local\\programs\\python\\python313\\lib\\site-packages (from mlflow-skinny==3.1.4->mlflow) (0.5.3)\n",
      "Requirement already satisfied: typing-extensions<5,>=4.0.0 in c:\\users\\afifa\\appdata\\local\\programs\\python\\python313\\lib\\site-packages (from mlflow-skinny==3.1.4->mlflow) (4.13.0)\n",
      "Requirement already satisfied: uvicorn<1 in c:\\users\\afifa\\appdata\\local\\programs\\python\\python313\\lib\\site-packages (from mlflow-skinny==3.1.4->mlflow) (0.35.0)\n",
      "Requirement already satisfied: Mako in c:\\users\\afifa\\appdata\\local\\programs\\python\\python313\\lib\\site-packages (from alembic!=1.10.0,<2->mlflow) (1.3.9)\n",
      "Requirement already satisfied: pywin32>=304 in c:\\users\\afifa\\appdata\\roaming\\python\\python313\\site-packages (from docker<8,>=4.0.0->mlflow) (310)\n",
      "Requirement already satisfied: urllib3>=1.26.0 in c:\\users\\afifa\\appdata\\local\\programs\\python\\python313\\lib\\site-packages (from docker<8,>=4.0.0->mlflow) (2.3.0)\n",
      "Requirement already satisfied: Werkzeug>=3.1 in c:\\users\\afifa\\appdata\\local\\programs\\python\\python313\\lib\\site-packages (from Flask<4->mlflow) (3.1.3)\n",
      "Requirement already satisfied: Jinja2>=3.1.2 in c:\\users\\afifa\\appdata\\local\\programs\\python\\python313\\lib\\site-packages (from Flask<4->mlflow) (3.1.6)\n",
      "Requirement already satisfied: itsdangerous>=2.2 in c:\\users\\afifa\\appdata\\local\\programs\\python\\python313\\lib\\site-packages (from Flask<4->mlflow) (2.2.0)\n",
      "Requirement already satisfied: blinker>=1.9 in c:\\users\\afifa\\appdata\\local\\programs\\python\\python313\\lib\\site-packages (from Flask<4->mlflow) (1.9.0)\n",
      "Requirement already satisfied: graphql-core<3.3,>=3.1 in c:\\users\\afifa\\appdata\\local\\programs\\python\\python313\\lib\\site-packages (from graphene<4->mlflow) (3.2.6)\n",
      "Requirement already satisfied: graphql-relay<3.3,>=3.1 in c:\\users\\afifa\\appdata\\local\\programs\\python\\python313\\lib\\site-packages (from graphene<4->mlflow) (3.2.0)\n",
      "Requirement already satisfied: python-dateutil<3,>=2.7.0 in c:\\users\\afifa\\appdata\\local\\programs\\python\\python313\\lib\\site-packages (from graphene<4->mlflow) (2.9.0.post0)\n",
      "Requirement already satisfied: contourpy>=1.0.1 in c:\\users\\afifa\\appdata\\local\\programs\\python\\python313\\lib\\site-packages (from matplotlib<4->mlflow) (1.3.2)\n",
      "Requirement already satisfied: cycler>=0.10 in c:\\users\\afifa\\appdata\\local\\programs\\python\\python313\\lib\\site-packages (from matplotlib<4->mlflow) (0.12.1)\n",
      "Requirement already satisfied: fonttools>=4.22.0 in c:\\users\\afifa\\appdata\\local\\programs\\python\\python313\\lib\\site-packages (from matplotlib<4->mlflow) (4.57.0)\n",
      "Requirement already satisfied: kiwisolver>=1.3.1 in c:\\users\\afifa\\appdata\\local\\programs\\python\\python313\\lib\\site-packages (from matplotlib<4->mlflow) (1.4.8)\n",
      "Requirement already satisfied: pillow>=8 in c:\\users\\afifa\\appdata\\local\\programs\\python\\python313\\lib\\site-packages (from matplotlib<4->mlflow) (11.2.1)\n",
      "Requirement already satisfied: pyparsing>=2.3.1 in c:\\users\\afifa\\appdata\\local\\programs\\python\\python313\\lib\\site-packages (from matplotlib<4->mlflow) (3.2.3)\n",
      "Requirement already satisfied: pytz>=2020.1 in c:\\users\\afifa\\appdata\\local\\programs\\python\\python313\\lib\\site-packages (from pandas<3->mlflow) (2025.2)\n",
      "Requirement already satisfied: tzdata>=2022.7 in c:\\users\\afifa\\appdata\\local\\programs\\python\\python313\\lib\\site-packages (from pandas<3->mlflow) (2025.2)\n",
      "Requirement already satisfied: joblib>=1.2.0 in c:\\users\\afifa\\appdata\\local\\programs\\python\\python313\\lib\\site-packages (from scikit-learn<2->mlflow) (1.5.0)\n",
      "Requirement already satisfied: threadpoolctl>=3.1.0 in c:\\users\\afifa\\appdata\\local\\programs\\python\\python313\\lib\\site-packages (from scikit-learn<2->mlflow) (3.6.0)\n",
      "Requirement already satisfied: greenlet!=0.4.17 in c:\\users\\afifa\\appdata\\local\\programs\\python\\python313\\lib\\site-packages (from sqlalchemy<3,>=1.4.0->mlflow) (3.1.1)\n",
      "Requirement already satisfied: colorama in c:\\users\\afifa\\appdata\\local\\programs\\python\\python313\\lib\\site-packages (from click<9,>=7.0->mlflow-skinny==3.1.4->mlflow) (0.4.6)\n",
      "Requirement already satisfied: google-auth~=2.0 in c:\\users\\afifa\\appdata\\local\\programs\\python\\python313\\lib\\site-packages (from databricks-sdk<1,>=0.20.0->mlflow-skinny==3.1.4->mlflow) (2.40.3)\n",
      "Requirement already satisfied: starlette<0.48.0,>=0.40.0 in c:\\users\\afifa\\appdata\\local\\programs\\python\\python313\\lib\\site-packages (from fastapi<1->mlflow-skinny==3.1.4->mlflow) (0.47.2)\n",
      "Requirement already satisfied: gitdb<5,>=4.0.1 in c:\\users\\afifa\\appdata\\local\\programs\\python\\python313\\lib\\site-packages (from gitpython<4,>=3.1.9->mlflow-skinny==3.1.4->mlflow) (4.0.12)\n",
      "Requirement already satisfied: zipp>=3.20 in c:\\users\\afifa\\appdata\\local\\programs\\python\\python313\\lib\\site-packages (from importlib_metadata!=4.7.0,<9,>=3.7.0->mlflow-skinny==3.1.4->mlflow) (3.23.0)\n",
      "Requirement already satisfied: MarkupSafe>=2.0 in c:\\users\\afifa\\appdata\\local\\programs\\python\\python313\\lib\\site-packages (from Jinja2>=3.1.2->Flask<4->mlflow) (3.0.2)\n",
      "Requirement already satisfied: opentelemetry-semantic-conventions==0.57b0 in c:\\users\\afifa\\appdata\\local\\programs\\python\\python313\\lib\\site-packages (from opentelemetry-sdk<3,>=1.9.0->mlflow-skinny==3.1.4->mlflow) (0.57b0)\n",
      "Requirement already satisfied: annotated-types>=0.6.0 in c:\\users\\afifa\\appdata\\local\\programs\\python\\python313\\lib\\site-packages (from pydantic<3,>=1.10.8->mlflow-skinny==3.1.4->mlflow) (0.7.0)\n",
      "Requirement already satisfied: pydantic-core==2.33.1 in c:\\users\\afifa\\appdata\\local\\programs\\python\\python313\\lib\\site-packages (from pydantic<3,>=1.10.8->mlflow-skinny==3.1.4->mlflow) (2.33.1)\n",
      "Requirement already satisfied: typing-inspection>=0.4.0 in c:\\users\\afifa\\appdata\\local\\programs\\python\\python313\\lib\\site-packages (from pydantic<3,>=1.10.8->mlflow-skinny==3.1.4->mlflow) (0.4.0)\n",
      "Requirement already satisfied: six>=1.5 in c:\\users\\afifa\\appdata\\local\\programs\\python\\python313\\lib\\site-packages (from python-dateutil<3,>=2.7.0->graphene<4->mlflow) (1.17.0)\n",
      "Requirement already satisfied: charset-normalizer<4,>=2 in c:\\users\\afifa\\appdata\\local\\programs\\python\\python313\\lib\\site-packages (from requests<3,>=2.17.3->mlflow-skinny==3.1.4->mlflow) (3.4.1)\n",
      "Requirement already satisfied: idna<4,>=2.5 in c:\\users\\afifa\\appdata\\local\\programs\\python\\python313\\lib\\site-packages (from requests<3,>=2.17.3->mlflow-skinny==3.1.4->mlflow) (3.10)\n",
      "Requirement already satisfied: certifi>=2017.4.17 in c:\\users\\afifa\\appdata\\local\\programs\\python\\python313\\lib\\site-packages (from requests<3,>=2.17.3->mlflow-skinny==3.1.4->mlflow) (2025.1.31)\n",
      "Requirement already satisfied: h11>=0.8 in c:\\users\\afifa\\appdata\\local\\programs\\python\\python313\\lib\\site-packages (from uvicorn<1->mlflow-skinny==3.1.4->mlflow) (0.14.0)\n",
      "Requirement already satisfied: smmap<6,>=3.0.1 in c:\\users\\afifa\\appdata\\local\\programs\\python\\python313\\lib\\site-packages (from gitdb<5,>=4.0.1->gitpython<4,>=3.1.9->mlflow-skinny==3.1.4->mlflow) (5.0.2)\n",
      "Requirement already satisfied: pyasn1-modules>=0.2.1 in c:\\users\\afifa\\appdata\\local\\programs\\python\\python313\\lib\\site-packages (from google-auth~=2.0->databricks-sdk<1,>=0.20.0->mlflow-skinny==3.1.4->mlflow) (0.4.2)\n",
      "Requirement already satisfied: rsa<5,>=3.1.4 in c:\\users\\afifa\\appdata\\local\\programs\\python\\python313\\lib\\site-packages (from google-auth~=2.0->databricks-sdk<1,>=0.20.0->mlflow-skinny==3.1.4->mlflow) (4.9.1)\n",
      "Requirement already satisfied: anyio<5,>=3.6.2 in c:\\users\\afifa\\appdata\\local\\programs\\python\\python313\\lib\\site-packages (from starlette<0.48.0,>=0.40.0->fastapi<1->mlflow-skinny==3.1.4->mlflow) (4.9.0)\n",
      "Requirement already satisfied: sniffio>=1.1 in c:\\users\\afifa\\appdata\\local\\programs\\python\\python313\\lib\\site-packages (from anyio<5,>=3.6.2->starlette<0.48.0,>=0.40.0->fastapi<1->mlflow-skinny==3.1.4->mlflow) (1.3.1)\n",
      "Requirement already satisfied: pyasn1<0.7.0,>=0.6.1 in c:\\users\\afifa\\appdata\\local\\programs\\python\\python313\\lib\\site-packages (from pyasn1-modules>=0.2.1->google-auth~=2.0->databricks-sdk<1,>=0.20.0->mlflow-skinny==3.1.4->mlflow) (0.6.1)\n",
      "Note: you may need to restart the kernel to use updated packages.\n"
     ]
    },
    {
     "name": "stderr",
     "output_type": "stream",
     "text": [
      "\n",
      "[notice] A new release of pip is available: 24.3.1 -> 25.2\n",
      "[notice] To update, run: python.exe -m pip install --upgrade pip\n"
     ]
    }
   ],
   "source": [
    "pip install mlflow"
   ]
  },
  {
   "cell_type": "code",
   "execution_count": 59,
   "id": "9467dba9",
   "metadata": {},
   "outputs": [
    {
     "name": "stdout",
     "output_type": "stream",
     "text": [
      "Requirement already satisfied: xgboost in c:\\users\\afifa\\appdata\\local\\programs\\python\\python313\\lib\\site-packages (3.0.1)\n",
      "Requirement already satisfied: numpy in c:\\users\\afifa\\appdata\\local\\programs\\python\\python313\\lib\\site-packages (from xgboost) (2.2.5)\n",
      "Requirement already satisfied: scipy in c:\\users\\afifa\\appdata\\local\\programs\\python\\python313\\lib\\site-packages (from xgboost) (1.15.3)\n",
      "Note: you may need to restart the kernel to use updated packages.\n"
     ]
    },
    {
     "name": "stderr",
     "output_type": "stream",
     "text": [
      "\n",
      "[notice] A new release of pip is available: 24.3.1 -> 25.2\n",
      "[notice] To update, run: python.exe -m pip install --upgrade pip\n"
     ]
    }
   ],
   "source": [
    "pip install xgboost\n"
   ]
  },
  {
   "cell_type": "code",
   "execution_count": 60,
   "id": "d2b7c6a2",
   "metadata": {},
   "outputs": [
    {
     "name": "stdout",
     "output_type": "stream",
     "text": [
      "Requirement already satisfied: LightGBM in c:\\users\\afifa\\appdata\\local\\programs\\python\\python313\\lib\\site-packages (4.6.0)\n",
      "Requirement already satisfied: numpy>=1.17.0 in c:\\users\\afifa\\appdata\\local\\programs\\python\\python313\\lib\\site-packages (from LightGBM) (2.2.5)\n",
      "Requirement already satisfied: scipy in c:\\users\\afifa\\appdata\\local\\programs\\python\\python313\\lib\\site-packages (from LightGBM) (1.15.3)\n",
      "Note: you may need to restart the kernel to use updated packages.\n"
     ]
    },
    {
     "name": "stderr",
     "output_type": "stream",
     "text": [
      "\n",
      "[notice] A new release of pip is available: 24.3.1 -> 25.2\n",
      "[notice] To update, run: python.exe -m pip install --upgrade pip\n"
     ]
    }
   ],
   "source": [
    "pip install LightGBM"
   ]
  },
  {
   "cell_type": "markdown",
   "id": "48cc6b9b",
   "metadata": {},
   "source": [
    "# Import Libraires"
   ]
  },
  {
   "cell_type": "code",
   "execution_count": 2,
   "id": "8d5b3637",
   "metadata": {},
   "outputs": [],
   "source": [
    "# Import Libraries \n",
    "import yfinance as yf\n",
    "import pandas as pd\n",
    "import matplotlib.pyplot as plt\n",
    "import mplfinance as mpf\n",
    "\n",
    "# Modeling Evaluasi\n",
    "from sklearn.metrics import mean_squared_error, mean_absolute_error, r2_score\n",
    "import numpy as np\n",
    "from sklearn.linear_model import LinearRegression\n",
    "from sklearn.metrics import mean_squared_error, mean_absolute_error, r2_score\n",
    "import numpy as np\n",
    "from xgboost import XGBRegressor\n",
    "from sklearn.metrics import mean_squared_error, mean_absolute_error, r2_score\n",
    "import mlflow\n",
    "import mlflow.sklearn\n",
    "import mlflow\n",
    "import mlflow.sklearn"
   ]
  },
  {
   "cell_type": "markdown",
   "id": "c44397cf",
   "metadata": {},
   "source": [
    "# Data Loading"
   ]
  },
  {
   "cell_type": "code",
   "execution_count": null,
   "id": "63a308e9",
   "metadata": {},
   "outputs": [
    {
     "name": "stderr",
     "output_type": "stream",
     "text": [
      "C:\\Users\\afifa\\AppData\\Local\\Temp\\ipykernel_19852\\2873633414.py:3: FutureWarning: YF.download() has changed argument auto_adjust default to True\n",
      "  data = yf.download(ticker, start=start, end=end)\n",
      "[*********************100%***********************]  1 of 1 completed\n"
     ]
    }
   ],
   "source": [
    "# Final version without 'Price' check\n",
    "def get_clean_stock_data(ticker, start=\"2025-08-02\", end=\"2025-09-31\"):\n",
    "    data = yf.download(ticker, start=start, end=end)\n",
    "\n",
    "    if isinstance(data.columns, pd.MultiIndex):\n",
    "        data.columns = data.columns.get_level_values(0)\n",
    "\n",
    "    data.reset_index(inplace=True)\n",
    "\n",
    "    columns_order = ['Date', 'Open', 'High', 'Low', 'Close', 'Volume']\n",
    "    data = data[[col for col in columns_order if col in data.columns]]\n",
    "\n",
    "    return data\n",
    "\n",
    "\n",
    "data = get_clean_stock_data(\"BBCA.JK\")\n",
    "data.to_csv('actual.csv')\n"
   ]
  },
  {
   "cell_type": "code",
   "execution_count": null,
   "id": "383dec68",
   "metadata": {},
   "outputs": [],
   "source": []
  },
  {
   "cell_type": "code",
   "execution_count": 6,
   "id": "14446193",
   "metadata": {},
   "outputs": [
    {
     "name": "stdout",
     "output_type": "stream",
     "text": [
      "Index(['Date', 'Open', 'High', 'Low', 'Close', 'Volume'], dtype='object', name='Price')\n",
      "<class 'pandas.core.frame.DataFrame'>\n",
      "RangeIndex: 3 entries, 0 to 2\n",
      "Data columns (total 6 columns):\n",
      " #   Column  Non-Null Count  Dtype         \n",
      "---  ------  --------------  -----         \n",
      " 0   Date    3 non-null      datetime64[ns]\n",
      " 1   Open    3 non-null      float64       \n",
      " 2   High    3 non-null      float64       \n",
      " 3   Low     3 non-null      float64       \n",
      " 4   Close   3 non-null      float64       \n",
      " 5   Volume  3 non-null      int64         \n",
      "dtypes: datetime64[ns](1), float64(4), int64(1)\n",
      "memory usage: 276.0 bytes\n"
     ]
    }
   ],
   "source": [
    "print(data.columns)\n",
    "data.info()"
   ]
  },
  {
   "cell_type": "code",
   "execution_count": null,
   "id": "fbed0e6a",
   "metadata": {},
   "outputs": [],
   "source": []
  },
  {
   "cell_type": "markdown",
   "id": "7b2a92f7",
   "metadata": {},
   "source": [
    "# Data Cleaning"
   ]
  },
  {
   "cell_type": "code",
   "execution_count": 64,
   "id": "0e43f477",
   "metadata": {},
   "outputs": [
    {
     "name": "stdout",
     "output_type": "stream",
     "text": [
      "Warning: Terdapat nilai <= 0 di kolom harga/volume.\n",
      "Price\n",
      "Open      0\n",
      "High      0\n",
      "Low       0\n",
      "Close     0\n",
      "Volume    2\n",
      "dtype: int64\n",
      "Terdapat 113 tanggal bisnis yang hilang (mungkin hari libur):\n",
      "['2020-03-25', '2020-04-10', '2020-05-01', '2020-05-07', '2020-05-21', '2020-05-22', '2020-05-25', '2020-06-01', '2020-07-31', '2020-08-17', '2020-08-20', '2020-08-21', '2020-10-28', '2020-10-29', '2020-10-30', '2020-12-09', '2020-12-24', '2020-12-25', '2020-12-31', '2021-01-01', '2021-02-12', '2021-03-11', '2021-04-02', '2021-05-12', '2021-05-13', '2021-05-14', '2021-05-26', '2021-06-01', '2021-07-20', '2021-08-11', '2021-08-17', '2021-10-20', '2021-12-31', '2022-02-01', '2022-02-28', '2022-03-03', '2022-04-15', '2022-04-29', '2022-05-02', '2022-05-03', '2022-05-04', '2022-05-05', '2022-05-06', '2022-05-16', '2022-05-26', '2022-06-01', '2022-08-17', '2023-01-23', '2023-03-22', '2023-03-23', '2023-04-07', '2023-04-19', '2023-04-20', '2023-04-21', '2023-04-24', '2023-04-25', '2023-05-01', '2023-05-18', '2023-06-01', '2023-06-02', '2023-06-28', '2023-06-29', '2023-06-30', '2023-07-19', '2023-08-17', '2023-09-28', '2023-12-25', '2023-12-26', '2024-01-01', '2024-02-08', '2024-02-09', '2024-02-14', '2024-03-11', '2024-03-12', '2024-03-29', '2024-04-08', '2024-04-09', '2024-04-10', '2024-04-11', '2024-04-12', '2024-04-15', '2024-05-01', '2024-05-09', '2024-05-10', '2024-05-23', '2024-05-24', '2024-06-17', '2024-06-18', '2024-09-16', '2024-11-27', '2024-12-25', '2024-12-26', '2024-12-31', '2025-01-01', '2025-01-27', '2025-01-28', '2025-01-29', '2025-03-28', '2025-03-31', '2025-04-01', '2025-04-02', '2025-04-03', '2025-04-04', '2025-04-07', '2025-04-18', '2025-05-01', '2025-05-12', '2025-05-13', '2025-05-29', '2025-05-30', '2025-06-06', '2025-06-09', '2025-06-27']\n"
     ]
    }
   ],
   "source": [
    "# Function Data Cleaning\n",
    "def clean_stock_data(df):\n",
    "    \"\"\"\n",
    "    Membersihkan data saham:\n",
    "    - Konversi tipe tanggal\n",
    "    - Urutkan berdasarkan tanggal\n",
    "    - Hapus duplikat\n",
    "    - Cek dan tangani missing values\n",
    "    - Cek nilai negatif atau nol\n",
    "    - Cek dan laporkan anomali harga\n",
    "    - Pastikan semua kolom numerik bertipe numerik\n",
    "    - Cek tanggal bisnis yang hilang\n",
    "    \n",
    "    Return:\n",
    "        df_bersih: DataFrame yang telah dibersihkan\n",
    "    \"\"\"\n",
    "    df = df.copy()\n",
    "\n",
    "    # Konversi tanggal dan urutkan\n",
    "    df['Date'] = pd.to_datetime(df['Date'])\n",
    "    df = df.sort_values('Date').reset_index(drop=True)\n",
    "\n",
    "    # Hapus duplikat\n",
    "    df = df.drop_duplicates()\n",
    "\n",
    "    # Ubah kolom numerik ke float\n",
    "    cols_to_numeric = ['Open', 'High', 'Low', 'Close', 'Volume']\n",
    "    for col in cols_to_numeric:\n",
    "        df[col] = pd.to_numeric(df[col], errors='coerce')\n",
    "\n",
    "    # Tangani missing values (NaN)\n",
    "    if df.isnull().sum().sum() > 0:\n",
    "        print(\"Missing values found, applying forward fill and backward fill...\")\n",
    "        df = df.fillna(method='ffill').fillna(method='bfill')\n",
    "\n",
    "    # Cek nilai negatif atau nol\n",
    "    if (df[cols_to_numeric] <= 0).any().any():\n",
    "        print(\"Warning: Terdapat nilai <= 0 di kolom harga/volume.\")\n",
    "        print((df[cols_to_numeric] <= 0).sum())\n",
    "\n",
    "    # Cek anomali harga (Close tidak boleh < Low atau > High, Low tidak boleh > High)\n",
    "    epsilon = 1e-6\n",
    "    anomalies = df[\n",
    "        (df['Close'] - df['High'] > epsilon) |\n",
    "        (df['Low'] - df['Close'] > epsilon) |\n",
    "        (df['Low'] - df['High'] > epsilon)\n",
    "    ]\n",
    "    if not anomalies.empty:\n",
    "        print(f\"Ada {len(anomalies)} baris dengan anomali harga:\")\n",
    "        print(anomalies)\n",
    "\n",
    "    # Cek apakah ada tanggal bisnis yang hilang (tidak dihapus, hanya info)\n",
    "    business_days = pd.date_range(start=df['Date'].min(), end=df['Date'].max(), freq='B')\n",
    "    missing_dates = business_days.difference(df['Date'])\n",
    "    if len(missing_dates) > 0:\n",
    "        print(f\"Terdapat {len(missing_dates)} tanggal bisnis yang hilang (mungkin hari libur):\")\n",
    "        print(missing_dates.strftime('%Y-%m-%d').tolist())\n",
    "\n",
    "    return df\n",
    "data_clean = clean_stock_data(data)\n"
   ]
  },
  {
   "cell_type": "code",
   "execution_count": 65,
   "id": "3b24c609",
   "metadata": {},
   "outputs": [
    {
     "name": "stdout",
     "output_type": "stream",
     "text": [
      "Price       Date        Open        High         Low       Close  Volume\n",
      "51    2020-03-13  4837.72168  4837.72168  4837.72168  4837.72168       0\n",
      "52    2020-03-16  4837.72168  4837.72168  4837.72168  4837.72168       0\n"
     ]
    }
   ],
   "source": [
    "# Tampilkan baris dengan volume nol atau negatif\n",
    "invalid_volume_rows = data_clean[data_clean['Volume'] <= 0]\n",
    "print(invalid_volume_rows)"
   ]
  },
  {
   "cell_type": "code",
   "execution_count": null,
   "id": "92afd311",
   "metadata": {},
   "outputs": [
    {
     "name": "stdout",
     "output_type": "stream",
     "text": [
      "2\n"
     ]
    }
   ],
   "source": [
    "# Menghilangkan baris\n",
    "invalid_volume_rows = data_clean[data_clean['Volume'] <= 0]\n",
    "print(invalid_volume_rows)\n",
    "data = data_clean[data_clean['Volume'] > 0].reset_index(drop=True)\n",
    "print((data_clean['Volume'] <= 0).sum())"
   ]
  },
  {
   "cell_type": "markdown",
   "id": "82eb9576",
   "metadata": {},
   "source": [
    "## 🧹 Data Cleaning Summary\n",
    "\n",
    "### 1. Nilai Volume ≤ 0\n",
    "- Ditemukan **2 baris** dengan `Volume` ≤ 0 (tidak wajar secara finansial).\n",
    "- ✅ **Tindakan:** Baris dihapus.\n",
    "- Kolom harga (`Open`, `High`, `Low`, `Close`) bersih dari nilai nol/negatif.\n",
    "\n",
    "📌 Volume nol biasanya karena:\n",
    "- Saham disuspensi atau tidak aktif.\n",
    "- Likuiditas rendah.\n",
    "- Kesalahan data.\n",
    "\n",
    "### 2. Tanggal Bisnis Hilang\n",
    "- Ditemukan **113 hari kerja** yang hilang.\n",
    "- Umumnya disebabkan oleh libur nasional, akhir pekan panjang, atau penutupan bursa.\n",
    "\n",
    "✅ **Tindakan:** **Tidak diimputasi**, karena ini wajar pada data pasar saham.\n",
    "\n",
    "---\n",
    "\n",
    "### ✅ Kesimpulan\n",
    "Dataset telah dibersihkan dan siap digunakan untuk analisis atau pelatihan model.\n"
   ]
  },
  {
   "cell_type": "markdown",
   "id": "fce5c6fa",
   "metadata": {},
   "source": [
    "# Data Visualization"
   ]
  },
  {
   "cell_type": "markdown",
   "id": "6605e616",
   "metadata": {},
   "source": [
    "## 📊 Data Visualization\n",
    "\n",
    "Untuk memahami data harga saham secara visual, digunakan beberapa grafik berikut:\n",
    "\n",
    "1. **Line Chart Harga Penutupan:** Menunjukkan tren jangka panjang saham.\n",
    "2. **Volume Perdagangan:** Mengilustrasikan aktivitas beli/jual pasar setiap harinya.\n",
    "3. **Candlestick Chart:** Visualisasi OHLC (Open, High, Low, Close) untuk menggambarkan pergerakan harga secara lebih detail dalam periode tertentu.\n"
   ]
  },
  {
   "cell_type": "code",
   "execution_count": 67,
   "id": "87978feb",
   "metadata": {},
   "outputs": [],
   "source": [
    "# Function Visualization\n",
    "\n",
    "## 1. Line Chart Harga Penutupan\n",
    "def plot_close_price(df):\n",
    "    plt.figure(figsize=(14, 6))\n",
    "    plt.plot(df['Date'], df['Close'], label='Close Price')\n",
    "    plt.title('Harga Penutupan Saham dari Waktu ke Waktu')\n",
    "    plt.xlabel('Tanggal')\n",
    "    plt.ylabel('Harga Penutupan')\n",
    "    plt.grid(True)\n",
    "    plt.legend()\n",
    "    plt.tight_layout()\n",
    "    plt.show()\n",
    "\n",
    "## 2. Volume Perdagangan\n",
    "def plot_volume(df):\n",
    "    plt.figure(figsize=(14, 4))\n",
    "    plt.bar(df['Date'], df['Volume'], width=1.0)\n",
    "    plt.title('Volume Perdagangan Harian')\n",
    "    plt.xlabel('Tanggal')\n",
    "    plt.ylabel('Volume')\n",
    "    plt.tight_layout()\n",
    "    plt.show()\n",
    "\n",
    "## 3. Candlestick Chart\n",
    "def plot_candlestick(df, days=60):\n",
    "    try:\n",
    "        ohlc = df[['Date', 'Open', 'High', 'Low', 'Close', 'Volume']].copy()\n",
    "        ohlc.set_index('Date', inplace=True)\n",
    "        mpf.plot(\n",
    "            ohlc.tail(days),\n",
    "            type='candle',\n",
    "            volume=True,\n",
    "            style='yahoo',\n",
    "            title=f'Candlestick Chart ({days} Hari Terakhir)'\n",
    "        )\n",
    "    except Exception as e:\n",
    "        print(f\"❗ Gagal menampilkan candlestick chart: {e}\")\n"
   ]
  },
  {
   "cell_type": "code",
   "execution_count": null,
   "id": "bce015ca",
   "metadata": {},
   "outputs": [
    {
     "data": {
      "image/png": "[encoded data removed]",
      "text/plain": [
       "<Figure size 1400x600 with 1 Axes>"
      ]
     },
     "metadata": {},
     "output_type": "display_data"
    },
    {
     "data": {
      "image/png": "[encoded data removed]",
      "text/plain": [
       "<Figure size 1400x400 with 1 Axes>"
      ]
     },
     "metadata": {},
     "output_type": "display_data"
    },
    {
     "data": {
      "image/png": "[encoded data removed]",
      "text/plain": [
       "<Figure size 800x575 with 4 Axes>"
      ]
     },
     "metadata": {},
     "output_type": "display_data"
    }
   ],
   "source": [
    "\n",
    "plot_close_price(data_clean)\n",
    "plot_volume(data_clean)\n",
    "# Atur days sesuai dengan kebutuhan beberapa hari sebelumnya.\n",
    "plot_candlestick(data_clean, days=120)\n"
   ]
  },
  {
   "cell_type": "markdown",
   "id": "6a81f21a",
   "metadata": {},
   "source": [
    "# Data Preprocessing"
   ]
  },
  {
   "cell_type": "markdown",
   "id": "2ae1f330",
   "metadata": {},
   "source": [
    "## Feature Engineering"
   ]
  },
  {
   "cell_type": "code",
   "execution_count": 69,
   "id": "3fdb5ef5",
   "metadata": {},
   "outputs": [
    {
     "ename": "NameError",
     "evalue": "name 'mkjhkl' is not defined",
     "output_type": "error",
     "traceback": [
      "\u001b[31m---------------------------------------------------------------------------\u001b[39m",
      "\u001b[31mNameError\u001b[39m                                 Traceback (most recent call last)",
      "\u001b[36mCell\u001b[39m\u001b[36m \u001b[39m\u001b[32mIn[69]\u001b[39m\u001b[32m, line 1\u001b[39m\n\u001b[32m----> \u001b[39m\u001b[32m1\u001b[39m \u001b[43mmkjhkl\u001b[49m\n",
      "\u001b[31mNameError\u001b[39m: name 'mkjhkl' is not defined"
     ]
    }
   ],
   "source": [
    "mkjhkl"
   ]
  },
  {
   "cell_type": "code",
   "execution_count": 8,
   "id": "79439f9b",
   "metadata": {},
   "outputs": [],
   "source": [
    "\n",
    "def create_features(df, lags=[1, 2, 3], rolling_windows=[5, 10]):\n",
    "    \"\"\"\n",
    "    Membuat fitur lag dan rolling untuk modeling time series regression.\n",
    "    Target: Close(t+1)\n",
    "    \"\"\"\n",
    "    df = df.copy()\n",
    "\n",
    "    # Pastikan data terurut\n",
    "    df = df.sort_values(\"Date\").reset_index(drop=True)\n",
    "\n",
    "    # LAG features\n",
    "    for lag in lags:\n",
    "        df[f\"lag_close_{lag}\"] = df[\"Close\"].shift(lag)\n",
    "\n",
    "    # Rolling mean & std\n",
    "    for window in rolling_windows:\n",
    "        df[f\"roll_mean_{window}\"] = df[\"Close\"].shift(1).rolling(window=window).mean()\n",
    "        df[f\"roll_std_{window}\"] = df[\"Close\"].shift(1).rolling(window=window).std()\n",
    "\n",
    "    # Target: Close price esok hari\n",
    "    df[\"target\"] = df[\"Close\"].shift(-1)\n",
    "\n",
    "    # Drop baris dengan NaN (dari shifting/rolling)\n",
    "    df = df.dropna().reset_index(drop=True)\n",
    "    \n",
    "    return df\n"
   ]
  },
  {
   "cell_type": "code",
   "execution_count": null,
   "id": "49d76246",
   "metadata": {},
   "outputs": [],
   "source": [
    "data_fe = create_features(data)\n",
    "data_fe.head()"
   ]
  },
  {
   "cell_type": "markdown",
   "id": "c66acc12",
   "metadata": {},
   "source": [
    "## Train-Test Split"
   ]
  },
  {
   "cell_type": "code",
   "execution_count": 11,
   "id": "164f4c6a",
   "metadata": {},
   "outputs": [
    {
     "name": "stdout",
     "output_type": "stream",
     "text": [
      "Train shape: (1065, 14)\n",
      "Test shape: (267, 14)\n"
     ]
    }
   ],
   "source": [
    "# Func train test split\n",
    "def time_series_train_test_split(df, test_size=0.2):\n",
    "    df = df.copy()\n",
    "    split_index = int(len(df) * (1 - test_size))\n",
    "    \n",
    "    train_df = df.iloc[:split_index]\n",
    "    test_df = df.iloc[split_index:]\n",
    "    \n",
    "    return train_df, test_df\n",
    "\n",
    "# running\n",
    "train_df, test_df = time_series_train_test_split(data_fe, test_size=0.2)\n",
    "print(\"Train shape:\", train_df.shape)\n",
    "print(\"Test shape:\", test_df.shape)\n"
   ]
  },
  {
   "cell_type": "code",
   "execution_count": null,
   "id": "6ffd4632",
   "metadata": {},
   "outputs": [],
   "source": [
    "\n",
    "# Splitting kolom Target\n",
    "def split_X_y(df, target_col=\"target\", drop_cols=[\"Date\"]):\n",
    "    feature_cols = [col for col in df.columns if col not in drop_cols + [target_col]]\n",
    "    X = df[feature_cols]\n",
    "    y = df[target_col]\n",
    "    return X, y\n",
    "X_train, y_train = split_X_y(train_df)\n",
    "X_test, y_test = split_X_y(test_df)"
   ]
  },
  {
   "cell_type": "markdown",
   "id": "75d9c94e",
   "metadata": {},
   "source": [
    "OKE KITA PUNYA data_fe yang sudah di split x_train dll nya"
   ]
  },
  {
   "cell_type": "markdown",
   "id": "05138bff",
   "metadata": {},
   "source": [
    "# Baseline Model\n"
   ]
  },
  {
   "cell_type": "markdown",
   "id": "01d05cd3",
   "metadata": {},
   "source": [
    "## Naive Forecast"
   ]
  },
  {
   "cell_type": "code",
   "execution_count": null,
   "id": "5bf45636",
   "metadata": {},
   "outputs": [],
   "source": [
    "# Function Baseline\n",
    "def baseline_naive_forecast(test_df, lag_column=\"lag_close_1\", target_column=\"target\"):\n",
    "    y_true = test_df[target_column].values\n",
    "    y_pred = test_df[lag_column].values\n",
    "\n",
    "    rmse = np.sqrt(mean_squared_error(y_true, y_pred))\n",
    "    mae = mean_absolute_error(y_true, y_pred)\n",
    "    r2 = r2_score(y_true, y_pred)\n",
    "\n",
    "    print(f\"[Baseline] RMSE: {rmse:.2f}, MAE: {mae:.2f}, R²: {r2:.4f}\")\n",
    "    \n",
    "    return {\n",
    "        \"rmse\": rmse,\n",
    "        \"mae\": mae,\n",
    "        \"r2\": r2,\n",
    "        \"y_true\": y_true,\n",
    "        \"y_pred\": y_pred\n",
    "    }\n",
    "baseline_result = baseline_naive_forecast(test_df)\n",
    "baseline_result"
   ]
  },
  {
   "cell_type": "markdown",
   "id": "30472939",
   "metadata": {},
   "source": [
    "### Baseline Vs Actual"
   ]
  },
  {
   "cell_type": "code",
   "execution_count": null,
   "id": "1a66752c",
   "metadata": {},
   "outputs": [],
   "source": [
    "plt.figure(figsize=(14, 6))\n",
    "plt.plot(test_df['Date'], baseline_result[\"y_true\"], label='Actual Close Price', linewidth=2)\n",
    "plt.plot(test_df['Date'], baseline_result[\"y_pred\"], label='Naive Forecast (Lag 1)', linestyle='--')\n",
    "plt.title(\"Baseline Forecast vs Actual\")\n",
    "plt.xlabel(\"Date\")\n",
    "plt.ylabel(\"Price\")\n",
    "plt.legend()\n",
    "plt.grid(True)\n",
    "plt.tight_layout()\n",
    "plt.show()"
   ]
  },
  {
   "cell_type": "code",
   "execution_count": null,
   "id": "7efdda37",
   "metadata": {},
   "outputs": [],
   "source": [
    "435fdsf"
   ]
  },
  {
   "cell_type": "markdown",
   "id": "0da8ed61",
   "metadata": {},
   "source": [
    "# Linear Regression with lagged Futures"
   ]
  },
  {
   "cell_type": "code",
   "execution_count": 17,
   "id": "4103d700",
   "metadata": {},
   "outputs": [],
   "source": [
    "def train_linear_regression(X_train, y_train):\n",
    "    model = LinearRegression()\n",
    "    model.fit(X_train, y_train)\n",
    "    return model\n",
    "\n",
    "def evaluate_model(model, X_test, y_test):\n",
    "    y_pred = model.predict(X_test)\n",
    "    rmse = np.sqrt(mean_squared_error(y_test, y_pred))\n",
    "    mae = mean_absolute_error(y_test, y_pred)\n",
    "    r2 = r2_score(y_test, y_pred)\n",
    "    \n",
    "    return {\n",
    "        \"y_pred\": y_pred,\n",
    "        \"rmse\": rmse,\n",
    "        \"mae\": mae,\n",
    "        \"r2\": r2\n",
    "    }\n"
   ]
  },
  {
   "cell_type": "code",
   "execution_count": null,
   "id": "ef18d69d",
   "metadata": {},
   "outputs": [],
   "source": [
    "\n",
    "# 1. Training\n",
    "lr_model = train_linear_regression(X_train, y_train)\n",
    "\n",
    "# 2. Evaluasi\n",
    "lr_result = evaluate_model(lr_model, X_test, y_test)\n",
    "\n",
    "# 3. Lihat hasilnya\n",
    "print(f\"RMSE: {lr_result['rmse']:.2f}\")\n",
    "print(f\"MAE : {lr_result['mae']:.2f}\")\n",
    "print(f\"R2  : {lr_result['r2']:.4f}\")"
   ]
  },
  {
   "cell_type": "code",
   "execution_count": null,
   "id": "f134b241",
   "metadata": {},
   "outputs": [],
   "source": [
    "def plot_baseline_predictions(dates, y_true, y_pred, title=\"Baseline Forecast vs Actual\"):\n",
    "    plt.figure(figsize=(14, 6))\n",
    "    plt.plot(dates, y_true, label='Actual Close Price', linewidth=2)\n",
    "    plt.plot(dates, y_pred, label='Naive Forecast (Lag 1)', linestyle='--')\n",
    "    plt.title(title)\n",
    "    plt.xlabel(\"Date\")\n",
    "    plt.ylabel(\"Price\")\n",
    "    plt.legend()\n",
    "    plt.grid(True)\n",
    "    plt.tight_layout()\n",
    "    plt.show()\n",
    "\n",
    "plot_baseline_predictions(\n",
    "    dates=test_df['Date'],\n",
    "    y_true=y_test,\n",
    "    y_pred=lr_result['y_pred'],\n",
    "    title=\"Linear Regression Forecast vs Actual\"\n",
    ")"
   ]
  },
  {
   "cell_type": "markdown",
   "id": "cb5df758",
   "metadata": {},
   "source": [
    "# MLflow"
   ]
  },
  {
   "cell_type": "code",
   "execution_count": null,
   "id": "1bc42751",
   "metadata": {},
   "outputs": [],
   "source": [
    "def log_to_mlflow(model, X_test, y_test, y_pred, run_name=\"LinearRegression\"):\n",
    "    \"\"\"\n",
    "    Log model, metrics, and a plot to MLflow.\n",
    "    \"\"\"\n",
    "    with mlflow.start_run(run_name=run_name):\n",
    "        # Log parameters (you can expand if you use more)\n",
    "        mlflow.log_param(\"model_type\", \"LinearRegression\")\n",
    "\n",
    "        # Calculate metrics\n",
    "        rmse = np.sqrt(mean_squared_error(y_test, y_pred))\n",
    "        mae = mean_absolute_error(y_test, y_pred)\n",
    "        r2 = r2_score(y_test, y_pred)\n",
    "\n",
    "        # Log metrics\n",
    "        mlflow.log_metric(\"RMSE\", rmse)\n",
    "        mlflow.log_metric(\"MAE\", mae)\n",
    "        mlflow.log_metric(\"R2\", r2)\n",
    "\n",
    "        # Log model\n",
    "        mlflow.sklearn.log_model(model, artifact_path=\"model\")\n",
    "\n",
    "        # Save & log plot\n",
    "        plt.figure(figsize=(10,5))\n",
    "        plt.plot(y_test.values, label=\"Actual\")\n",
    "        plt.plot(y_pred, label=\"Predicted\")\n",
    "        plt.title(\"Linear Regression Forecast vs Actual\")\n",
    "        plt.xlabel(\"Time\")\n",
    "        plt.ylabel(\"Close Price\")\n",
    "        plt.legend()\n",
    "        plt.grid()\n",
    "        plt.tight_layout()\n",
    "        plt.savefig(\"lr_forecast_plot.png\")\n",
    "        mlflow.log_artifact(\"lr_forecast_plot.png\")\n",
    "        plt.close()\n",
    "\n",
    "        print(f\"Logged to MLflow: RMSE={rmse:.2f}, MAE={mae:.2f}, R2={r2:.4f}\")\n"
   ]
  },
  {
   "cell_type": "code",
   "execution_count": null,
   "id": "4921d88b",
   "metadata": {},
   "outputs": [],
   "source": [
    "log_to_mlflow(lr_model, X_test, y_test, lr_result['y_pred'], run_name=\"LinearRegression_v1\")\n"
   ]
  },
  {
   "cell_type": "markdown",
   "id": "39169efa",
   "metadata": {},
   "source": [
    "# XGBoost"
   ]
  },
  {
   "cell_type": "code",
   "execution_count": 9,
   "id": "2881682b",
   "metadata": {},
   "outputs": [
    {
     "data": {
      "text/html": [
       "<div>\n",
       "<style scoped>\n",
       "    .dataframe tbody tr th:only-of-type {\n",
       "        vertical-align: middle;\n",
       "    }\n",
       "\n",
       "    .dataframe tbody tr th {\n",
       "        vertical-align: top;\n",
       "    }\n",
       "\n",
       "    .dataframe thead th {\n",
       "        text-align: right;\n",
       "    }\n",
       "</style>\n",
       "<table border=\"1\" class=\"dataframe\">\n",
       "  <thead>\n",
       "    <tr style=\"text-align: right;\">\n",
       "      <th>Price</th>\n",
       "      <th>Date</th>\n",
       "      <th>Open</th>\n",
       "      <th>High</th>\n",
       "      <th>Low</th>\n",
       "      <th>Close</th>\n",
       "      <th>Volume</th>\n",
       "      <th>lag_close_1</th>\n",
       "      <th>lag_close_2</th>\n",
       "      <th>lag_close_3</th>\n",
       "      <th>roll_mean_5</th>\n",
       "      <th>roll_std_5</th>\n",
       "      <th>roll_mean_10</th>\n",
       "      <th>roll_std_10</th>\n",
       "      <th>target</th>\n",
       "    </tr>\n",
       "  </thead>\n",
       "  <tbody>\n",
       "    <tr>\n",
       "      <th>0</th>\n",
       "      <td>2020-01-16</td>\n",
       "      <td>5920.987387</td>\n",
       "      <td>5994.945348</td>\n",
       "      <td>5912.286450</td>\n",
       "      <td>5960.141602</td>\n",
       "      <td>88931500</td>\n",
       "      <td>5947.090332</td>\n",
       "      <td>5977.543945</td>\n",
       "      <td>5868.782227</td>\n",
       "      <td>5901.845801</td>\n",
       "      <td>56.606165</td>\n",
       "      <td>5878.353467</td>\n",
       "      <td>52.957319</td>\n",
       "      <td>5981.894043</td>\n",
       "    </tr>\n",
       "    <tr>\n",
       "      <th>1</th>\n",
       "      <td>2020-01-17</td>\n",
       "      <td>5951.440764</td>\n",
       "      <td>5994.945448</td>\n",
       "      <td>5916.637017</td>\n",
       "      <td>5981.894043</td>\n",
       "      <td>38249500</td>\n",
       "      <td>5960.141602</td>\n",
       "      <td>5947.090332</td>\n",
       "      <td>5977.543945</td>\n",
       "      <td>5920.987598</td>\n",
       "      <td>56.972897</td>\n",
       "      <td>5892.274902</td>\n",
       "      <td>54.460754</td>\n",
       "      <td>5947.090332</td>\n",
       "    </tr>\n",
       "    <tr>\n",
       "      <th>2</th>\n",
       "      <td>2020-01-20</td>\n",
       "      <td>6047.151106</td>\n",
       "      <td>6068.903448</td>\n",
       "      <td>5942.739864</td>\n",
       "      <td>5947.090332</td>\n",
       "      <td>93554500</td>\n",
       "      <td>5981.894043</td>\n",
       "      <td>5960.141602</td>\n",
       "      <td>5947.090332</td>\n",
       "      <td>5947.090430</td>\n",
       "      <td>45.938045</td>\n",
       "      <td>5898.800586</td>\n",
       "      <td>61.197301</td>\n",
       "      <td>5942.740723</td>\n",
       "    </tr>\n",
       "    <tr>\n",
       "      <th>3</th>\n",
       "      <td>2020-01-21</td>\n",
       "      <td>5990.595882</td>\n",
       "      <td>5999.296820</td>\n",
       "      <td>5938.390254</td>\n",
       "      <td>5942.740723</td>\n",
       "      <td>103984500</td>\n",
       "      <td>5947.090332</td>\n",
       "      <td>5981.894043</td>\n",
       "      <td>5960.141602</td>\n",
       "      <td>5962.752051</td>\n",
       "      <td>16.451515</td>\n",
       "      <td>5907.501416</td>\n",
       "      <td>61.266009</td>\n",
       "      <td>5951.440918</td>\n",
       "    </tr>\n",
       "    <tr>\n",
       "      <th>4</th>\n",
       "      <td>2020-01-22</td>\n",
       "      <td>5964.492323</td>\n",
       "      <td>5999.296072</td>\n",
       "      <td>5947.090449</td>\n",
       "      <td>5951.440918</td>\n",
       "      <td>94311500</td>\n",
       "      <td>5942.740723</td>\n",
       "      <td>5947.090332</td>\n",
       "      <td>5981.894043</td>\n",
       "      <td>5955.791406</td>\n",
       "      <td>15.984442</td>\n",
       "      <td>5915.332227</td>\n",
       "      <td>60.143704</td>\n",
       "      <td>5951.440918</td>\n",
       "    </tr>\n",
       "  </tbody>\n",
       "</table>\n",
       "</div>"
      ],
      "text/plain": [
       "Price       Date         Open         High          Low        Close  \\\n",
       "0     2020-01-16  5920.987387  5994.945348  5912.286450  5960.141602   \n",
       "1     2020-01-17  5951.440764  5994.945448  5916.637017  5981.894043   \n",
       "2     2020-01-20  6047.151106  6068.903448  5942.739864  5947.090332   \n",
       "3     2020-01-21  5990.595882  5999.296820  5938.390254  5942.740723   \n",
       "4     2020-01-22  5964.492323  5999.296072  5947.090449  5951.440918   \n",
       "\n",
       "Price     Volume  lag_close_1  lag_close_2  lag_close_3  roll_mean_5  \\\n",
       "0       88931500  5947.090332  5977.543945  5868.782227  5901.845801   \n",
       "1       38249500  5960.141602  5947.090332  5977.543945  5920.987598   \n",
       "2       93554500  5981.894043  5960.141602  5947.090332  5947.090430   \n",
       "3      103984500  5947.090332  5981.894043  5960.141602  5962.752051   \n",
       "4       94311500  5942.740723  5947.090332  5981.894043  5955.791406   \n",
       "\n",
       "Price  roll_std_5  roll_mean_10  roll_std_10       target  \n",
       "0       56.606165   5878.353467    52.957319  5981.894043  \n",
       "1       56.972897   5892.274902    54.460754  5947.090332  \n",
       "2       45.938045   5898.800586    61.197301  5942.740723  \n",
       "3       16.451515   5907.501416    61.266009  5951.440918  \n",
       "4       15.984442   5915.332227    60.143704  5951.440918  "
      ]
     },
     "execution_count": 9,
     "metadata": {},
     "output_type": "execute_result"
    }
   ],
   "source": [
    "data_fe = create_features(data)\n",
    "data_fe.head()"
   ]
  },
  {
   "cell_type": "code",
   "execution_count": 14,
   "id": "50cc5cbb",
   "metadata": {},
   "outputs": [],
   "source": [
    "train_df, test_df = time_series_train_test_split(data_fe, test_size=0.2)\n",
    "X_train, y_train = split_X_y(train_df)\n",
    "X_test, y_test = split_X_y(test_df)"
   ]
  },
  {
   "cell_type": "code",
   "execution_count": 15,
   "id": "28871d03",
   "metadata": {},
   "outputs": [],
   "source": [
    "model = XGBRegressor(n_estimators=100, max_depth=3, random_state=42)\n",
    "model.fit(X_train, y_train)\n",
    "\n",
    "preds = model.predict(X_test)"
   ]
  },
  {
   "cell_type": "code",
   "execution_count": null,
   "id": "7668a146",
   "metadata": {},
   "outputs": [
    {
     "name": "stdout",
     "output_type": "stream",
     "text": [
      "[XGBoost Evaluation]\n",
      "RMSE: 307.64\n",
      "MAE : 232.01\n",
      "R²  : 0.7731\n"
     ]
    }
   ],
   "source": [
    "\n",
    "xgb_evaluation = evaluate_model(model, X_test, y_test)\n",
    "\n",
    "print(\"[XGBoost Evaluation]\")\n",
    "print(f\"RMSE: {xgb_evaluation['rmse']:.2f}\")\n",
    "print(f\"MAE : {xgb_evaluation['mae']:.2f}\")\n",
    "print(f\"R²  : {xgb_evaluation['r2']:.4f}\")"
   ]
  },
  {
   "cell_type": "code",
   "execution_count": null,
   "id": "b1b868cf",
   "metadata": {},
   "outputs": [],
   "source": [
    "\n",
    "plot_baseline_predictions(\n",
    "    dates=test_df['Date'],\n",
    "    y_true=y_test,\n",
    "    y_pred=xgb_evaluation['y_pred'],\n",
    "    title=\"Linear Regression Forecast vs Actual\"\n",
    ")"
   ]
  },
  {
   "cell_type": "code",
   "execution_count": 21,
   "id": "c4c7fe90",
   "metadata": {},
   "outputs": [
    {
     "name": "stdout",
     "output_type": "stream",
     "text": [
      "Fitting 5 folds for each of 48 candidates, totalling 240 fits\n",
      "Best parameters: {'colsample_bytree': 0.8, 'learning_rate': 0.1, 'max_depth': 3, 'n_estimators': 200, 'subsample': 0.8}\n",
      "Best RMSE: 367.6769713039274\n"
     ]
    }
   ],
   "source": [
    "from sklearn.model_selection import GridSearchCV, TimeSeriesSplit\n",
    "from xgboost import XGBRegressor\n",
    "\n",
    "# 1. Parameter grid\n",
    "param_grid = {\n",
    "    \"n_estimators\": [100, 200],\n",
    "    \"max_depth\": [3, 5, 7],\n",
    "    \"learning_rate\": [0.01, 0.1],\n",
    "    \"subsample\": [0.8, 1.0],\n",
    "    \"colsample_bytree\": [0.8, 1.0]\n",
    "}\n",
    "\n",
    "# 2. TimeSeriesSplit untuk validasi yang sesuai urutan waktu\n",
    "tscv = TimeSeriesSplit(n_splits=5)\n",
    "\n",
    "# 3. Inisialisasi model dan GridSearchCV\n",
    "xgb = XGBRegressor(random_state=42, verbosity=0)\n",
    "grid_search = GridSearchCV(\n",
    "    estimator=xgb,\n",
    "    param_grid=param_grid,\n",
    "    cv=tscv,\n",
    "    scoring='neg_root_mean_squared_error',\n",
    "    n_jobs=-1,\n",
    "    verbose=1\n",
    ")\n",
    "\n",
    "# 4. Fit ke data training\n",
    "grid_search.fit(X_train, y_train)\n",
    "\n",
    "# 5. Lihat hasil terbaik\n",
    "print(\"Best parameters:\", grid_search.best_params_)\n",
    "print(\"Best RMSE:\", -grid_search.best_score_)\n"
   ]
  },
  {
   "cell_type": "code",
   "execution_count": 20,
   "id": "6516d450",
   "metadata": {},
   "outputs": [
    {
     "name": "stdout",
     "output_type": "stream",
     "text": [
      "[XGBoost Tuned Evaluation]\n",
      "RMSE: 323.88\n",
      "MAE : 244.85\n",
      "R²  : 0.7485\n"
     ]
    }
   ],
   "source": [
    "# Ambil model terbaik dari GridSearch\n",
    "best_xgb = grid_search.best_estimator_\n",
    "\n",
    "# Evaluasi di test set\n",
    "xgb_tuned_evaluation = evaluate_model(best_xgb, X_test, y_test)\n",
    "\n",
    "# Tampilkan hasil evaluasi\n",
    "print(\"[XGBoost Tuned Evaluation]\")\n",
    "print(f\"RMSE: {xgb_tuned_evaluation['rmse']:.2f}\")\n",
    "print(f\"MAE : {xgb_tuned_evaluation['mae']:.2f}\")\n",
    "print(f\"R²  : {xgb_tuned_evaluation['r2']:.4f}\")"
   ]
  },
  {
   "cell_type": "code",
   "execution_count": 22,
   "id": "1dd6a0de",
   "metadata": {},
   "outputs": [],
   "source": [
    "from sklearn.metrics import mean_absolute_error, mean_squared_error, r2_score\n",
    "import numpy as np\n",
    "\n",
    "def train_and_evaluate_model(model, X_train, y_train, X_test, y_test, model_name=\"Model\"):\n",
    "    # Train model\n",
    "    model.fit(X_train, y_train)\n",
    "\n",
    "    # Predict\n",
    "    y_pred = model.predict(X_test)\n",
    "\n",
    "    # Metrics\n",
    "    rmse = np.sqrt(mean_squared_error(y_test, y_pred))\n",
    "    mae = mean_absolute_error(y_test, y_pred)\n",
    "    r2 = r2_score(y_test, y_pred)\n",
    "\n",
    "    # Log results\n",
    "    print(f\"[{model_name} Evaluation]\")\n",
    "    print(f\"RMSE: {rmse:.2f}\")\n",
    "    print(f\"MAE : {mae:.2f}\")\n",
    "    print(f\"R²  : {r2:.4f}\")\n",
    "\n",
    "    return {\n",
    "        \"model\": model,\n",
    "        \"y_pred\": y_pred,\n",
    "        \"rmse\": rmse,\n",
    "        \"mae\": mae,\n",
    "        \"r2\": r2\n",
    "    }\n"
   ]
  },
  {
   "cell_type": "code",
   "execution_count": 23,
   "id": "b02a6bd4",
   "metadata": {},
   "outputs": [
    {
     "name": "stdout",
     "output_type": "stream",
     "text": [
      "[Linear Regression Evaluation]\n",
      "RMSE: 146.32\n",
      "MAE : 109.92\n",
      "R²  : 0.9487\n",
      "[XGBoost Evaluation]\n",
      "RMSE: 307.64\n",
      "MAE : 232.01\n",
      "R²  : 0.7731\n",
      "[LightGBM] [Info] Auto-choosing col-wise multi-threading, the overhead of testing was 0.000709 seconds.\n",
      "You can set `force_col_wise=true` to remove the overhead.\n",
      "[LightGBM] [Info] Total Bins 3032\n",
      "[LightGBM] [Info] Number of data points in the train set: 1065, number of used features: 12\n",
      "[LightGBM] [Info] Start training from score 6988.792734\n",
      "[LightGBM] [Warning] No further splits with positive gain, best gain: -inf\n",
      "[LightGBM] [Warning] No further splits with positive gain, best gain: -inf\n",
      "[LightGBM] [Warning] No further splits with positive gain, best gain: -inf\n",
      "[LightGBM] [Warning] No further splits with positive gain, best gain: -inf\n",
      "[LightGBM] [Warning] No further splits with positive gain, best gain: -inf\n",
      "[LightGBM] [Warning] No further splits with positive gain, best gain: -inf\n",
      "[LightGBM] [Warning] No further splits with positive gain, best gain: -inf\n",
      "[LightGBM] [Warning] No further splits with positive gain, best gain: -inf\n",
      "[LightGBM] [Warning] No further splits with positive gain, best gain: -inf\n",
      "[LightGBM] [Warning] No further splits with positive gain, best gain: -inf\n",
      "[LightGBM] [Warning] No further splits with positive gain, best gain: -inf\n",
      "[LightGBM] [Warning] No further splits with positive gain, best gain: -inf\n",
      "[LightGBM] [Warning] No further splits with positive gain, best gain: -inf\n",
      "[LightGBM] [Warning] No further splits with positive gain, best gain: -inf\n",
      "[LightGBM] [Warning] No further splits with positive gain, best gain: -inf\n",
      "[LightGBM] [Warning] No further splits with positive gain, best gain: -inf\n",
      "[LightGBM] [Warning] No further splits with positive gain, best gain: -inf\n",
      "[LightGBM] [Warning] No further splits with positive gain, best gain: -inf\n",
      "[LightGBM] [Warning] No further splits with positive gain, best gain: -inf\n",
      "[LightGBM] [Warning] No further splits with positive gain, best gain: -inf\n",
      "[LightGBM] [Warning] No further splits with positive gain, best gain: -inf\n",
      "[LightGBM] [Warning] No further splits with positive gain, best gain: -inf\n",
      "[LightGBM] [Warning] No further splits with positive gain, best gain: -inf\n",
      "[LightGBM] [Warning] No further splits with positive gain, best gain: -inf\n",
      "[LightGBM] [Warning] No further splits with positive gain, best gain: -inf\n",
      "[LightGBM] [Warning] No further splits with positive gain, best gain: -inf\n",
      "[LightGBM] [Warning] No further splits with positive gain, best gain: -inf\n",
      "[LightGBM] [Warning] No further splits with positive gain, best gain: -inf\n",
      "[LightGBM] [Warning] No further splits with positive gain, best gain: -inf\n",
      "[LightGBM] [Warning] No further splits with positive gain, best gain: -inf\n",
      "[LightGBM] [Warning] No further splits with positive gain, best gain: -inf\n",
      "[LightGBM] [Warning] No further splits with positive gain, best gain: -inf\n",
      "[LightGBM] [Warning] No further splits with positive gain, best gain: -inf\n",
      "[LightGBM] [Warning] No further splits with positive gain, best gain: -inf\n",
      "[LightGBM] [Warning] No further splits with positive gain, best gain: -inf\n",
      "[LightGBM] [Warning] No further splits with positive gain, best gain: -inf\n",
      "[LightGBM] [Warning] No further splits with positive gain, best gain: -inf\n",
      "[LightGBM] [Warning] No further splits with positive gain, best gain: -inf\n",
      "[LightGBM] [Warning] No further splits with positive gain, best gain: -inf\n",
      "[LightGBM] [Warning] No further splits with positive gain, best gain: -inf\n",
      "[LightGBM] [Warning] No further splits with positive gain, best gain: -inf\n",
      "[LightGBM] [Warning] No further splits with positive gain, best gain: -inf\n",
      "[LightGBM] [Warning] No further splits with positive gain, best gain: -inf\n",
      "[LightGBM] [Warning] No further splits with positive gain, best gain: -inf\n",
      "[LightGBM] [Warning] No further splits with positive gain, best gain: -inf\n",
      "[LightGBM] [Warning] No further splits with positive gain, best gain: -inf\n",
      "[LightGBM] [Warning] No further splits with positive gain, best gain: -inf\n",
      "[LightGBM] [Warning] No further splits with positive gain, best gain: -inf\n",
      "[LightGBM] [Warning] No further splits with positive gain, best gain: -inf\n",
      "[LightGBM] [Warning] No further splits with positive gain, best gain: -inf\n",
      "[LightGBM] [Warning] No further splits with positive gain, best gain: -inf\n",
      "[LightGBM] [Warning] No further splits with positive gain, best gain: -inf\n",
      "[LightGBM] [Warning] No further splits with positive gain, best gain: -inf\n",
      "[LightGBM] [Warning] No further splits with positive gain, best gain: -inf\n",
      "[LightGBM] [Warning] No further splits with positive gain, best gain: -inf\n",
      "[LightGBM] [Warning] No further splits with positive gain, best gain: -inf\n",
      "[LightGBM] [Warning] No further splits with positive gain, best gain: -inf\n",
      "[LightGBM] [Warning] No further splits with positive gain, best gain: -inf\n",
      "[LightGBM] [Warning] No further splits with positive gain, best gain: -inf\n",
      "[LightGBM] [Warning] No further splits with positive gain, best gain: -inf\n",
      "[LightGBM] [Warning] No further splits with positive gain, best gain: -inf\n",
      "[LightGBM] [Warning] No further splits with positive gain, best gain: -inf\n",
      "[LightGBM] [Warning] No further splits with positive gain, best gain: -inf\n",
      "[LightGBM] [Warning] No further splits with positive gain, best gain: -inf\n",
      "[LightGBM] [Warning] No further splits with positive gain, best gain: -inf\n",
      "[LightGBM] [Warning] No further splits with positive gain, best gain: -inf\n",
      "[LightGBM] [Warning] No further splits with positive gain, best gain: -inf\n",
      "[LightGBM] [Warning] No further splits with positive gain, best gain: -inf\n",
      "[LightGBM] [Warning] No further splits with positive gain, best gain: -inf\n",
      "[LightGBM] [Warning] No further splits with positive gain, best gain: -inf\n",
      "[LightGBM] [Warning] No further splits with positive gain, best gain: -inf\n",
      "[LightGBM] [Warning] No further splits with positive gain, best gain: -inf\n",
      "[LightGBM] [Warning] No further splits with positive gain, best gain: -inf\n",
      "[LightGBM] [Warning] No further splits with positive gain, best gain: -inf\n",
      "[LightGBM] [Warning] No further splits with positive gain, best gain: -inf\n",
      "[LightGBM] [Warning] No further splits with positive gain, best gain: -inf\n",
      "[LightGBM] [Warning] No further splits with positive gain, best gain: -inf\n",
      "[LightGBM] [Warning] No further splits with positive gain, best gain: -inf\n",
      "[LightGBM] [Warning] No further splits with positive gain, best gain: -inf\n",
      "[LightGBM] [Warning] No further splits with positive gain, best gain: -inf\n",
      "[LightGBM] [Warning] No further splits with positive gain, best gain: -inf\n",
      "[LightGBM] [Warning] No further splits with positive gain, best gain: -inf\n",
      "[LightGBM] [Warning] No further splits with positive gain, best gain: -inf\n",
      "[LightGBM] [Warning] No further splits with positive gain, best gain: -inf\n",
      "[LightGBM] [Warning] No further splits with positive gain, best gain: -inf\n",
      "[LightGBM] [Warning] No further splits with positive gain, best gain: -inf\n",
      "[LightGBM] [Warning] No further splits with positive gain, best gain: -inf\n",
      "[LightGBM] [Warning] No further splits with positive gain, best gain: -inf\n",
      "[LightGBM] [Warning] No further splits with positive gain, best gain: -inf\n",
      "[LightGBM] [Warning] No further splits with positive gain, best gain: -inf\n",
      "[LightGBM] [Warning] No further splits with positive gain, best gain: -inf\n",
      "[LightGBM] [Warning] No further splits with positive gain, best gain: -inf\n",
      "[LightGBM] [Warning] No further splits with positive gain, best gain: -inf\n",
      "[LightGBM] [Warning] No further splits with positive gain, best gain: -inf\n",
      "[LightGBM] [Warning] No further splits with positive gain, best gain: -inf\n",
      "[LightGBM] [Warning] No further splits with positive gain, best gain: -inf\n",
      "[LightGBM] [Warning] No further splits with positive gain, best gain: -inf\n",
      "[LightGBM] [Warning] No further splits with positive gain, best gain: -inf\n",
      "[LightGBM] [Warning] No further splits with positive gain, best gain: -inf\n",
      "[LightGBM] [Warning] No further splits with positive gain, best gain: -inf\n",
      "[LightGBM Evaluation]\n",
      "RMSE: 336.85\n",
      "MAE : 252.14\n",
      "R²  : 0.7280\n"
     ]
    }
   ],
   "source": [
    "# Linear Regression\n",
    "from sklearn.linear_model import LinearRegression\n",
    "lr_model = LinearRegression()\n",
    "lr_results = train_and_evaluate_model(lr_model, X_train, y_train, X_test, y_test, model_name=\"Linear Regression\")\n",
    "\n",
    "# XGBoost\n",
    "from xgboost import XGBRegressor\n",
    "xgb_model = XGBRegressor(n_estimators=100, max_depth=3, random_state=42)\n",
    "xgb_results = train_and_evaluate_model(xgb_model, X_train, y_train, X_test, y_test, model_name=\"XGBoost\")\n",
    "\n",
    "# LightGBM\n",
    "from lightgbm import LGBMRegressor\n",
    "lgbm_model = LGBMRegressor(n_estimators=100, max_depth=3, random_state=42)\n",
    "lgbm_results = train_and_evaluate_model(lgbm_model, X_train, y_train, X_test, y_test, model_name=\"LightGBM\")\n"
   ]
  },
  {
   "cell_type": "markdown",
   "id": "3571192d",
   "metadata": {},
   "source": [
    "# ARIMA"
   ]
  },
  {
   "cell_type": "code",
   "execution_count": 24,
   "id": "6f719246",
   "metadata": {},
   "outputs": [],
   "source": [
    "import pandas as pd\n",
    "\n",
    "# Pastikan kolom Date jadi index datetime\n",
    "df_arima = data.copy()\n",
    "df_arima['Date'] = pd.to_datetime(df_arima['Date'])\n",
    "df_arima.set_index('Date', inplace=True)\n",
    "\n",
    "# Ambil hanya kolom Close\n",
    "ts_data = df_arima['Close']\n"
   ]
  },
  {
   "cell_type": "code",
   "execution_count": 25,
   "id": "68b90e3b",
   "metadata": {},
   "outputs": [],
   "source": [
    "# Split manual (sama proporsi seperti sebelumnya)\n",
    "split_index = int(len(ts_data) * 0.8)\n",
    "train_arima = ts_data[:split_index]\n",
    "test_arima = ts_data[split_index:]\n"
   ]
  },
  {
   "cell_type": "code",
   "execution_count": 26,
   "id": "64e08458",
   "metadata": {},
   "outputs": [
    {
     "name": "stdout",
     "output_type": "stream",
     "text": [
      "Requirement already satisfied: pip in c:\\users\\afifa\\appdata\\local\\programs\\python\\python313\\lib\\site-packages (25.2)\n",
      "Requirement already satisfied: setuptools in c:\\users\\afifa\\appdata\\local\\programs\\python\\python313\\lib\\site-packages (80.9.0)\n",
      "Requirement already satisfied: wheel in c:\\users\\afifa\\appdata\\local\\programs\\python\\python313\\lib\\site-packages (0.45.1)\n",
      "Note: you may need to restart the kernel to use updated packages.\n"
     ]
    }
   ],
   "source": [
    "pip install -U pip setuptools wheel"
   ]
  },
  {
   "cell_type": "code",
   "execution_count": 73,
   "id": "1c3b26a9",
   "metadata": {},
   "outputs": [
    {
     "name": "stdout",
     "output_type": "stream",
     "text": [
      "Requirement already satisfied: numpy in c:\\users\\afifa\\appdata\\local\\programs\\python\\python313\\lib\\site-packages (2.2.5)\n",
      "Collecting numpy\n",
      "  Downloading numpy-2.3.2-cp313-cp313-win_amd64.whl.metadata (60 kB)\n",
      "Collecting Cython\n",
      "  Using cached cython-3.1.2-cp313-cp313-win_amd64.whl.metadata (6.0 kB)\n",
      "Downloading numpy-2.3.2-cp313-cp313-win_amd64.whl (12.8 MB)\n",
      "   ---------------------------------------- 0.0/12.8 MB ? eta -:--:--\n",
      "   ---- ----------------------------------- 1.6/12.8 MB 9.9 MB/s eta 0:00:02\n",
      "   ----------- ---------------------------- 3.7/12.8 MB 10.9 MB/s eta 0:00:01\n",
      "   ------------------ --------------------- 5.8/12.8 MB 10.3 MB/s eta 0:00:01\n",
      "   ------------------------ --------------- 7.9/12.8 MB 9.9 MB/s eta 0:00:01\n",
      "   ------------------------------ --------- 9.7/12.8 MB 9.8 MB/s eta 0:00:01\n",
      "   ------------------------------------ --- 11.5/12.8 MB 9.7 MB/s eta 0:00:01\n",
      "   ---------------------------------------- 12.8/12.8 MB 9.2 MB/s  0:00:01\n",
      "Using cached cython-3.1.2-cp313-cp313-win_amd64.whl (2.7 MB)\n",
      "Installing collected packages: numpy, Cython\n",
      "\n",
      "  Attempting uninstall: numpy\n",
      "\n",
      "    Found existing installation: numpy 2.2.5\n",
      "\n",
      "   ---------------------------------------- 0/2 [numpy]\n",
      "    Uninstalling numpy-2.2.5:\n",
      "   ---------------------------------------- 0/2 [numpy]\n",
      "   ---------------------------------------- 0/2 [numpy]\n",
      "   ---------------------------------------- 0/2 [numpy]\n",
      "   ---------------------------------------- 0/2 [numpy]\n",
      "   ---------------------------------------- 0/2 [numpy]\n",
      "   ---------------------------------------- 0/2 [numpy]\n",
      "   ---------------------------------------- 0/2 [numpy]\n",
      "      Successfully uninstalled numpy-2.2.5\n",
      "   ---------------------------------------- 0/2 [numpy]\n",
      "   ---------------------------------------- 0/2 [numpy]\n",
      "   ---------------------------------------- 0/2 [numpy]\n",
      "   ---------------------------------------- 0/2 [numpy]\n",
      "   ---------------------------------------- 0/2 [numpy]\n",
      "   ---------------------------------------- 0/2 [numpy]\n",
      "   ---------------------------------------- 0/2 [numpy]\n",
      "   ---------------------------------------- 0/2 [numpy]\n",
      "   ---------------------------------------- 0/2 [numpy]\n",
      "   ---------------------------------------- 0/2 [numpy]\n",
      "   ---------------------------------------- 0/2 [numpy]\n",
      "   ---------------------------------------- 0/2 [numpy]\n",
      "   ---------------------------------------- 0/2 [numpy]\n",
      "   ---------------------------------------- 0/2 [numpy]\n",
      "   ---------------------------------------- 0/2 [numpy]\n",
      "   ---------------------------------------- 0/2 [numpy]\n",
      "   ---------------------------------------- 0/2 [numpy]\n",
      "   ---------------------------------------- 0/2 [numpy]\n",
      "   ---------------------------------------- 0/2 [numpy]\n",
      "   ---------------------------------------- 0/2 [numpy]\n",
      "   ---------------------------------------- 0/2 [numpy]\n",
      "   ---------------------------------------- 0/2 [numpy]\n",
      "   ---------------------------------------- 0/2 [numpy]\n",
      "   ---------------------------------------- 0/2 [numpy]\n",
      "   ---------------------------------------- 0/2 [numpy]\n",
      "   ---------------------------------------- 0/2 [numpy]\n",
      "   ---------------------------------------- 0/2 [numpy]\n",
      "   ---------------------------------------- 0/2 [numpy]\n",
      "   ---------------------------------------- 0/2 [numpy]\n",
      "   ---------------------------------------- 0/2 [numpy]\n",
      "   ---------------------------------------- 0/2 [numpy]\n",
      "   ---------------------------------------- 0/2 [numpy]\n",
      "   ---------------------------------------- 0/2 [numpy]\n",
      "   ---------------------------------------- 0/2 [numpy]\n",
      "   ---------------------------------------- 0/2 [numpy]\n",
      "   ---------------------------------------- 0/2 [numpy]\n",
      "   ---------------------------------------- 0/2 [numpy]\n",
      "   ---------------------------------------- 0/2 [numpy]\n",
      "   ---------------------------------------- 0/2 [numpy]\n",
      "   ---------------------------------------- 0/2 [numpy]\n",
      "   ---------------------------------------- 0/2 [numpy]\n",
      "   ---------------------------------------- 0/2 [numpy]\n",
      "   ---------------------------------------- 0/2 [numpy]\n",
      "   ---------------------------------------- 0/2 [numpy]\n",
      "   ---------------------------------------- 0/2 [numpy]\n",
      "   ---------------------------------------- 0/2 [numpy]\n",
      "   ---------------------------------------- 0/2 [numpy]\n",
      "   ---------------------------------------- 0/2 [numpy]\n",
      "   ---------------------------------------- 0/2 [numpy]\n",
      "   ---------------------------------------- 0/2 [numpy]\n",
      "   ---------------------------------------- 0/2 [numpy]\n",
      "   ---------------------------------------- 0/2 [numpy]\n",
      "   ---------------------------------------- 0/2 [numpy]\n",
      "   ---------------------------------------- 0/2 [numpy]\n",
      "   ---------------------------------------- 0/2 [numpy]\n",
      "   ---------------------------------------- 0/2 [numpy]\n",
      "   ---------------------------------------- 0/2 [numpy]\n",
      "   ---------------------------------------- 0/2 [numpy]\n",
      "   ---------------------------------------- 0/2 [numpy]\n",
      "   ---------------------------------------- 0/2 [numpy]\n",
      "   ---------------------------------------- 0/2 [numpy]\n",
      "   ---------------------------------------- 0/2 [numpy]\n",
      "   ---------------------------------------- 0/2 [numpy]\n",
      "   ---------------------------------------- 0/2 [numpy]\n",
      "   ---------------------------------------- 0/2 [numpy]\n",
      "   ---------------------------------------- 0/2 [numpy]\n",
      "   ---------------------------------------- 0/2 [numpy]\n",
      "   ---------------------------------------- 0/2 [numpy]\n",
      "   ---------------------------------------- 0/2 [numpy]\n",
      "   ---------------------------------------- 0/2 [numpy]\n",
      "   ---------------------------------------- 0/2 [numpy]\n",
      "   ---------------------------------------- 0/2 [numpy]\n",
      "   ---------------------------------------- 0/2 [numpy]\n",
      "   ---------------------------------------- 0/2 [numpy]\n",
      "   ---------------------------------------- 0/2 [numpy]\n",
      "   ---------------------------------------- 0/2 [numpy]\n",
      "   ---------------------------------------- 0/2 [numpy]\n",
      "   ---------------------------------------- 0/2 [numpy]\n",
      "   ---------------------------------------- 0/2 [numpy]\n",
      "   ---------------------------------------- 0/2 [numpy]\n",
      "   ---------------------------------------- 0/2 [numpy]\n",
      "   ---------------------------------------- 0/2 [numpy]\n",
      "   ---------------------------------------- 0/2 [numpy]\n",
      "   ---------------------------------------- 0/2 [numpy]\n",
      "   ---------------------------------------- 0/2 [numpy]\n",
      "   ---------------------------------------- 0/2 [numpy]\n",
      "   ---------------------------------------- 0/2 [numpy]\n",
      "   ---------------------------------------- 0/2 [numpy]\n",
      "   ---------------------------------------- 0/2 [numpy]\n",
      "   ---------------------------------------- 0/2 [numpy]\n",
      "   ---------------------------------------- 0/2 [numpy]\n",
      "   ---------------------------------------- 0/2 [numpy]\n",
      "   ---------------------------------------- 0/2 [numpy]\n",
      "   ---------------------------------------- 0/2 [numpy]\n",
      "   ---------------------------------------- 0/2 [numpy]\n",
      "   ---------------------------------------- 0/2 [numpy]\n",
      "   ---------------------------------------- 0/2 [numpy]\n",
      "   ---------------------------------------- 0/2 [numpy]\n",
      "   ---------------------------------------- 0/2 [numpy]\n",
      "   ---------------------------------------- 0/2 [numpy]\n",
      "   ---------------------------------------- 0/2 [numpy]\n",
      "   ---------------------------------------- 0/2 [numpy]\n",
      "   ---------------------------------------- 0/2 [numpy]\n",
      "   ---------------------------------------- 0/2 [numpy]\n",
      "   ---------------------------------------- 0/2 [numpy]\n",
      "   ---------------------------------------- 0/2 [numpy]\n",
      "   ---------------------------------------- 0/2 [numpy]\n",
      "   ---------------------------------------- 0/2 [numpy]\n",
      "   ---------------------------------------- 0/2 [numpy]\n",
      "   ---------------------------------------- 0/2 [numpy]\n",
      "   ---------------------------------------- 0/2 [numpy]\n",
      "   ---------------------------------------- 0/2 [numpy]\n",
      "   ---------------------------------------- 0/2 [numpy]\n",
      "   ---------------------------------------- 0/2 [numpy]\n",
      "   ---------------------------------------- 0/2 [numpy]\n",
      "   ---------------------------------------- 0/2 [numpy]\n",
      "   ---------------------------------------- 0/2 [numpy]\n",
      "   ---------------------------------------- 0/2 [numpy]\n",
      "   ---------------------------------------- 0/2 [numpy]\n",
      "   ---------------------------------------- 0/2 [numpy]\n",
      "   ---------------------------------------- 0/2 [numpy]\n",
      "   -------------------- ------------------- 1/2 [Cython]\n",
      "   -------------------- ------------------- 1/2 [Cython]\n",
      "   -------------------- ------------------- 1/2 [Cython]\n",
      "   -------------------- ------------------- 1/2 [Cython]\n",
      "   -------------------- ------------------- 1/2 [Cython]\n",
      "   -------------------- ------------------- 1/2 [Cython]\n",
      "   -------------------- ------------------- 1/2 [Cython]\n",
      "   -------------------- ------------------- 1/2 [Cython]\n",
      "   -------------------- ------------------- 1/2 [Cython]\n",
      "   -------------------- ------------------- 1/2 [Cython]\n",
      "   -------------------- ------------------- 1/2 [Cython]\n",
      "   -------------------- ------------------- 1/2 [Cython]\n",
      "   -------------------- ------------------- 1/2 [Cython]\n",
      "   -------------------- ------------------- 1/2 [Cython]\n",
      "   -------------------- ------------------- 1/2 [Cython]\n",
      "   -------------------- ------------------- 1/2 [Cython]\n",
      "   -------------------- ------------------- 1/2 [Cython]\n",
      "   -------------------- ------------------- 1/2 [Cython]\n",
      "   -------------------- ------------------- 1/2 [Cython]\n",
      "   -------------------- ------------------- 1/2 [Cython]\n",
      "   -------------------- ------------------- 1/2 [Cython]\n",
      "   -------------------- ------------------- 1/2 [Cython]\n",
      "   -------------------- ------------------- 1/2 [Cython]\n",
      "   ---------------------------------------- 2/2 [Cython]\n",
      "\n",
      "Successfully installed Cython-3.1.2 numpy-2.3.2\n",
      "Note: you may need to restart the kernel to use updated packages.\n"
     ]
    },
    {
     "name": "stderr",
     "output_type": "stream",
     "text": [
      "  WARNING: Failed to remove contents in a temporary directory 'C:\\Users\\afifa\\AppData\\Local\\Programs\\Python\\Python313\\Lib\\site-packages\\~umpy.libs'.\n",
      "  You can safely remove it manually.\n",
      "  WARNING: Failed to remove contents in a temporary directory 'C:\\Users\\afifa\\AppData\\Local\\Programs\\Python\\Python313\\Lib\\site-packages\\~umpy'.\n",
      "  You can safely remove it manually.\n"
     ]
    }
   ],
   "source": [
    "pip install -U numpy Cython"
   ]
  },
  {
   "cell_type": "code",
   "execution_count": 74,
   "id": "f2d9bfa2",
   "metadata": {},
   "outputs": [
    {
     "name": "stdout",
     "output_type": "stream",
     "text": [
      "Collecting pmdarima\n",
      "  Using cached pmdarima-2.0.4.tar.gz (630 kB)\n",
      "  Installing build dependencies: started\n",
      "  Installing build dependencies: finished with status 'done'\n",
      "  Getting requirements to build wheel: started\n",
      "  Getting requirements to build wheel: finished with status 'done'\n",
      "  Preparing metadata (pyproject.toml): started\n",
      "  Preparing metadata (pyproject.toml): finished with status 'done'\n",
      "Requirement already satisfied: joblib>=0.11 in c:\\users\\afifa\\appdata\\local\\programs\\python\\python313\\lib\\site-packages (from pmdarima) (1.5.0)\n",
      "Requirement already satisfied: Cython!=0.29.18,!=0.29.31,>=0.29 in c:\\users\\afifa\\appdata\\local\\programs\\python\\python313\\lib\\site-packages (from pmdarima) (3.1.2)\n",
      "Requirement already satisfied: numpy>=1.21.2 in c:\\users\\afifa\\appdata\\local\\programs\\python\\python313\\lib\\site-packages (from pmdarima) (2.3.2)\n",
      "Requirement already satisfied: pandas>=0.19 in c:\\users\\afifa\\appdata\\local\\programs\\python\\python313\\lib\\site-packages (from pmdarima) (2.2.3)\n",
      "Requirement already satisfied: scikit-learn>=0.22 in c:\\users\\afifa\\appdata\\local\\programs\\python\\python313\\lib\\site-packages (from pmdarima) (1.6.1)\n",
      "Requirement already satisfied: scipy>=1.3.2 in c:\\users\\afifa\\appdata\\local\\programs\\python\\python313\\lib\\site-packages (from pmdarima) (1.15.3)\n",
      "Requirement already satisfied: statsmodels>=0.13.2 in c:\\users\\afifa\\appdata\\local\\programs\\python\\python313\\lib\\site-packages (from pmdarima) (0.14.5)\n",
      "Requirement already satisfied: urllib3 in c:\\users\\afifa\\appdata\\local\\programs\\python\\python313\\lib\\site-packages (from pmdarima) (2.3.0)\n",
      "Requirement already satisfied: setuptools!=50.0.0,>=38.6.0 in c:\\users\\afifa\\appdata\\local\\programs\\python\\python313\\lib\\site-packages (from pmdarima) (80.9.0)\n",
      "Requirement already satisfied: packaging>=17.1 in c:\\users\\afifa\\appdata\\local\\programs\\python\\python313\\lib\\site-packages (from pmdarima) (24.2)\n",
      "Requirement already satisfied: python-dateutil>=2.8.2 in c:\\users\\afifa\\appdata\\local\\programs\\python\\python313\\lib\\site-packages (from pandas>=0.19->pmdarima) (2.9.0.post0)\n",
      "Requirement already satisfied: pytz>=2020.1 in c:\\users\\afifa\\appdata\\local\\programs\\python\\python313\\lib\\site-packages (from pandas>=0.19->pmdarima) (2025.2)\n",
      "Requirement already satisfied: tzdata>=2022.7 in c:\\users\\afifa\\appdata\\local\\programs\\python\\python313\\lib\\site-packages (from pandas>=0.19->pmdarima) (2025.2)\n",
      "Requirement already satisfied: six>=1.5 in c:\\users\\afifa\\appdata\\local\\programs\\python\\python313\\lib\\site-packages (from python-dateutil>=2.8.2->pandas>=0.19->pmdarima) (1.17.0)\n",
      "Requirement already satisfied: threadpoolctl>=3.1.0 in c:\\users\\afifa\\appdata\\local\\programs\\python\\python313\\lib\\site-packages (from scikit-learn>=0.22->pmdarima) (3.6.0)\n",
      "Requirement already satisfied: patsy>=0.5.6 in c:\\users\\afifa\\appdata\\local\\programs\\python\\python313\\lib\\site-packages (from statsmodels>=0.13.2->pmdarima) (1.0.1)\n",
      "Building wheels for collected packages: pmdarima\n",
      "  Building wheel for pmdarima (pyproject.toml): started\n",
      "  Building wheel for pmdarima (pyproject.toml): finished with status 'error'\n",
      "Failed to build pmdarima\n",
      "Note: you may need to restart the kernel to use updated packages.\n"
     ]
    },
    {
     "name": "stderr",
     "output_type": "stream",
     "text": [
      "  error: subprocess-exited-with-error\n",
      "  \n",
      "  × Building wheel for pmdarima (pyproject.toml) did not run successfully.\n",
      "  │ exit code: 1\n",
      "  ╰─> [43 lines of output]\n",
      "      Partial import of pmdarima during the build process.\n",
      "      \n",
      "      Requirements: ['joblib>=0.11\\nCython>=0.29,!=0.29.18,!=0.29.31\\nnumpy>=1.21.2\\npandas>=0.19\\nscikit-learn>=0.22\\nscipy>=1.3.2\\nstatsmodels>=0.13.2\\nurllib3\\nsetuptools>=38.6.0,!=50.0.0\\npackaging>=17.1  # Bundled with setuptools, but want to be explicit\\n']\n",
      "      Adding extra setuptools args\n",
      "      Setting up with setuptools\n",
      "      Traceback (most recent call last):\n",
      "        File \u001b[35m\"c:\\Users\\afifa\\AppData\\Local\\Programs\\Python\\Python313\\Lib\\site-packages\\pip\\_vendor\\pyproject_hooks\\_in_process\\_in_process.py\"\u001b[0m, line \u001b[35m389\u001b[0m, in \u001b[35m<module>\u001b[0m\n",
      "          \u001b[31mmain\u001b[0m\u001b[1;31m()\u001b[0m\n",
      "          \u001b[31m~~~~\u001b[0m\u001b[1;31m^^\u001b[0m\n",
      "        File \u001b[35m\"c:\\Users\\afifa\\AppData\\Local\\Programs\\Python\\Python313\\Lib\\site-packages\\pip\\_vendor\\pyproject_hooks\\_in_process\\_in_process.py\"\u001b[0m, line \u001b[35m373\u001b[0m, in \u001b[35mmain\u001b[0m\n",
      "          json_out[\"return_val\"] = \u001b[31mhook\u001b[0m\u001b[1;31m(**hook_input[\"kwargs\"])\u001b[0m\n",
      "                                   \u001b[31m~~~~\u001b[0m\u001b[1;31m^^^^^^^^^^^^^^^^^^^^^^^^\u001b[0m\n",
      "        File \u001b[35m\"c:\\Users\\afifa\\AppData\\Local\\Programs\\Python\\Python313\\Lib\\site-packages\\pip\\_vendor\\pyproject_hooks\\_in_process\\_in_process.py\"\u001b[0m, line \u001b[35m280\u001b[0m, in \u001b[35mbuild_wheel\u001b[0m\n",
      "          return \u001b[31m_build_backend().build_wheel\u001b[0m\u001b[1;31m(\u001b[0m\n",
      "                 \u001b[31m~~~~~~~~~~~~~~~~~~~~~~~~~~~~\u001b[0m\u001b[1;31m^\u001b[0m\n",
      "              \u001b[1;31mwheel_directory, config_settings, metadata_directory\u001b[0m\n",
      "              \u001b[1;31m^^^^^^^^^^^^^^^^^^^^^^^^^^^^^^^^^^^^^^^^^^^^^^^^^^^^\u001b[0m\n",
      "          \u001b[1;31m)\u001b[0m\n",
      "          \u001b[1;31m^\u001b[0m\n",
      "        File \u001b[35m\"C:\\Users\\afifa\\AppData\\Local\\Temp\\pip-build-env-a0g59el7\\overlay\\Lib\\site-packages\\setuptools\\build_meta.py\"\u001b[0m, line \u001b[35m435\u001b[0m, in \u001b[35mbuild_wheel\u001b[0m\n",
      "          return _build(['bdist_wheel', '--dist-info-dir', str(metadata_directory)])\n",
      "        File \u001b[35m\"C:\\Users\\afifa\\AppData\\Local\\Temp\\pip-build-env-a0g59el7\\overlay\\Lib\\site-packages\\setuptools\\build_meta.py\"\u001b[0m, line \u001b[35m423\u001b[0m, in \u001b[35m_build\u001b[0m\n",
      "          return \u001b[31mself._build_with_temp_dir\u001b[0m\u001b[1;31m(\u001b[0m\n",
      "                 \u001b[31m~~~~~~~~~~~~~~~~~~~~~~~~~\u001b[0m\u001b[1;31m^\u001b[0m\n",
      "              \u001b[1;31mcmd,\u001b[0m\n",
      "              \u001b[1;31m^^^^\u001b[0m\n",
      "          ...<3 lines>...\n",
      "              \u001b[1;31mself._arbitrary_args(config_settings),\u001b[0m\n",
      "              \u001b[1;31m^^^^^^^^^^^^^^^^^^^^^^^^^^^^^^^^^^^^^^\u001b[0m\n",
      "          \u001b[1;31m)\u001b[0m\n",
      "          \u001b[1;31m^\u001b[0m\n",
      "        File \u001b[35m\"C:\\Users\\afifa\\AppData\\Local\\Temp\\pip-build-env-a0g59el7\\overlay\\Lib\\site-packages\\setuptools\\build_meta.py\"\u001b[0m, line \u001b[35m404\u001b[0m, in \u001b[35m_build_with_temp_dir\u001b[0m\n",
      "          \u001b[31mself.run_setup\u001b[0m\u001b[1;31m()\u001b[0m\n",
      "          \u001b[31m~~~~~~~~~~~~~~\u001b[0m\u001b[1;31m^^\u001b[0m\n",
      "        File \u001b[35m\"C:\\Users\\afifa\\AppData\\Local\\Temp\\pip-build-env-a0g59el7\\overlay\\Lib\\site-packages\\setuptools\\build_meta.py\"\u001b[0m, line \u001b[35m512\u001b[0m, in \u001b[35mrun_setup\u001b[0m\n",
      "          \u001b[31msuper().run_setup\u001b[0m\u001b[1;31m(setup_script=setup_script)\u001b[0m\n",
      "          \u001b[31m~~~~~~~~~~~~~~~~~\u001b[0m\u001b[1;31m^^^^^^^^^^^^^^^^^^^^^^^^^^^\u001b[0m\n",
      "        File \u001b[35m\"C:\\Users\\afifa\\AppData\\Local\\Temp\\pip-build-env-a0g59el7\\overlay\\Lib\\site-packages\\setuptools\\build_meta.py\"\u001b[0m, line \u001b[35m317\u001b[0m, in \u001b[35mrun_setup\u001b[0m\n",
      "          \u001b[31mexec\u001b[0m\u001b[1;31m(code, locals())\u001b[0m\n",
      "          \u001b[31m~~~~\u001b[0m\u001b[1;31m^^^^^^^^^^^^^^^^\u001b[0m\n",
      "        File \u001b[35m\"<string>\"\u001b[0m, line \u001b[35m371\u001b[0m, in \u001b[35m<module>\u001b[0m\n",
      "        File \u001b[35m\"<string>\"\u001b[0m, line \u001b[35m330\u001b[0m, in \u001b[35mdo_setup\u001b[0m\n",
      "      \u001b[1;35mModuleNotFoundError\u001b[0m: \u001b[35mNo module named 'numpy'\u001b[0m\n",
      "      [end of output]\n",
      "  \n",
      "  note: This error originates from a subprocess, and is likely not a problem with pip.\n",
      "  ERROR: Failed building wheel for pmdarima\n",
      "error: failed-wheel-build-for-install\n",
      "\n",
      "× Failed to build installable wheels for some pyproject.toml based projects\n",
      "╰─> pmdarima\n"
     ]
    }
   ],
   "source": [
    "pip install pmdarima\n"
   ]
  },
  {
   "cell_type": "code",
   "execution_count": null,
   "id": "5c1f0ab8",
   "metadata": {},
   "outputs": [
    {
     "ename": "ModuleNotFoundError",
     "evalue": "No module named 'pmdarima'",
     "output_type": "error",
     "traceback": [
      "\u001b[31m---------------------------------------------------------------------------\u001b[39m",
      "\u001b[31mModuleNotFoundError\u001b[39m                       Traceback (most recent call last)",
      "\u001b[36mCell\u001b[39m\u001b[36m \u001b[39m\u001b[32mIn[55]\u001b[39m\u001b[32m, line 1\u001b[39m\n\u001b[32m----> \u001b[39m\u001b[32m1\u001b[39m \u001b[38;5;28;01mfrom\u001b[39;00m\u001b[38;5;250m \u001b[39m\u001b[34;01mpmdarima\u001b[39;00m\u001b[38;5;250m \u001b[39m\u001b[38;5;28;01mimport\u001b[39;00m auto_arima\n\u001b[32m      3\u001b[39m \u001b[38;5;66;03m# Tentukan model ARIMA optimal (auto search p,d,q)\u001b[39;00m\n\u001b[32m      4\u001b[39m model_auto = auto_arima(train_arima, seasonal=\u001b[38;5;28;01mFalse\u001b[39;00m, stepwise=\u001b[38;5;28;01mTrue\u001b[39;00m, suppress_warnings=\u001b[38;5;28;01mTrue\u001b[39;00m, trace=\u001b[38;5;28;01mTrue\u001b[39;00m)\n",
      "\u001b[31mModuleNotFoundError\u001b[39m: No module named 'pmdarima'"
     ]
    }
   ],
   "source": [
    "from pmdarima import auto_arima\n",
    "\n",
    "# Tentukan model ARIMA optimal (auto search p,d,q)\n",
    "model_auto = auto_arima(train_arima, seasonal=False, stepwise=True, suppress_warnings=True, trace=True)\n",
    "model_auto.summary()\n"
   ]
  },
  {
   "cell_type": "code",
   "execution_count": 27,
   "id": "1fd44f8a",
   "metadata": {},
   "outputs": [
    {
     "ename": "NameError",
     "evalue": "name 'model_auto' is not defined",
     "output_type": "error",
     "traceback": [
      "\u001b[31m---------------------------------------------------------------------------\u001b[39m",
      "\u001b[31mNameError\u001b[39m                                 Traceback (most recent call last)",
      "\u001b[36mCell\u001b[39m\u001b[36m \u001b[39m\u001b[32mIn[27]\u001b[39m\u001b[32m, line 3\u001b[39m\n\u001b[32m      1\u001b[39m \u001b[38;5;66;03m# Forecast sebanyak jumlah data test\u001b[39;00m\n\u001b[32m      2\u001b[39m n_test = \u001b[38;5;28mlen\u001b[39m(test_arima)\n\u001b[32m----> \u001b[39m\u001b[32m3\u001b[39m forecast = \u001b[43mmodel_auto\u001b[49m.predict(n_periods=n_test)\n\u001b[32m      5\u001b[39m \u001b[38;5;66;03m# Index sama dengan test\u001b[39;00m\n\u001b[32m      6\u001b[39m forecast = pd.Series(forecast, index=test_arima.index)\n",
      "\u001b[31mNameError\u001b[39m: name 'model_auto' is not defined"
     ]
    }
   ],
   "source": [
    "# Forecast sebanyak jumlah data test\n",
    "n_test = len(test_arima)\n",
    "forecast = model_auto.predict(n_periods=n_test)\n",
    "\n",
    "# Index sama dengan test\n",
    "forecast = pd.Series(forecast, index=test_arima.index)\n"
   ]
  },
  {
   "cell_type": "code",
   "execution_count": 28,
   "id": "c2002f55",
   "metadata": {},
   "outputs": [
    {
     "ename": "NameError",
     "evalue": "name 'forecast' is not defined",
     "output_type": "error",
     "traceback": [
      "\u001b[31m---------------------------------------------------------------------------\u001b[39m",
      "\u001b[31mNameError\u001b[39m                                 Traceback (most recent call last)",
      "\u001b[36mCell\u001b[39m\u001b[36m \u001b[39m\u001b[32mIn[28]\u001b[39m\u001b[32m, line 4\u001b[39m\n\u001b[32m      1\u001b[39m \u001b[38;5;28;01mfrom\u001b[39;00m\u001b[38;5;250m \u001b[39m\u001b[34;01msklearn\u001b[39;00m\u001b[34;01m.\u001b[39;00m\u001b[34;01mmetrics\u001b[39;00m\u001b[38;5;250m \u001b[39m\u001b[38;5;28;01mimport\u001b[39;00m mean_squared_error, mean_absolute_error, r2_score\n\u001b[32m      2\u001b[39m \u001b[38;5;28;01mimport\u001b[39;00m\u001b[38;5;250m \u001b[39m\u001b[34;01mnumpy\u001b[39;00m\u001b[38;5;250m \u001b[39m\u001b[38;5;28;01mas\u001b[39;00m\u001b[38;5;250m \u001b[39m\u001b[34;01mnp\u001b[39;00m\n\u001b[32m----> \u001b[39m\u001b[32m4\u001b[39m rmse = np.sqrt(mean_squared_error(test_arima, \u001b[43mforecast\u001b[49m))\n\u001b[32m      5\u001b[39m mae = mean_absolute_error(test_arima, forecast)\n\u001b[32m      6\u001b[39m r2 = r2_score(test_arima, forecast)\n",
      "\u001b[31mNameError\u001b[39m: name 'forecast' is not defined"
     ]
    }
   ],
   "source": [
    "from sklearn.metrics import mean_squared_error, mean_absolute_error, r2_score\n",
    "import numpy as np\n",
    "\n",
    "rmse = np.sqrt(mean_squared_error(test_arima, forecast))\n",
    "mae = mean_absolute_error(test_arima, forecast)\n",
    "r2 = r2_score(test_arima, forecast)\n",
    "\n",
    "print(\"[ARIMA Evaluation]\")\n",
    "print(f\"RMSE: {rmse:.2f}\")\n",
    "print(f\"MAE : {mae:.2f}\")\n",
    "print(f\"R²  : {r2:.4f}\")\n"
   ]
  },
  {
   "cell_type": "code",
   "execution_count": null,
   "id": "e0a2a15d",
   "metadata": {},
   "outputs": [],
   "source": [
    "pip install statsmodels"
   ]
  },
  {
   "cell_type": "code",
   "execution_count": 29,
   "id": "a3e3f13b",
   "metadata": {},
   "outputs": [],
   "source": [
    "import pandas as pd\n",
    "from statsmodels.tsa.arima.model import ARIMA\n",
    "from sklearn.metrics import mean_squared_error, mean_absolute_error, r2_score\n",
    "import numpy as np\n",
    "import matplotlib.pyplot as plt\n",
    "\n",
    "def run_arima_forecast(data, order=(5,1,0), test_size=0.2):\n",
    "    \"\"\"\n",
    "    Melatih model ARIMA pada data Close.\n",
    "    \n",
    "    Parameters:\n",
    "        data (pd.DataFrame): DataFrame dengan kolom 'Date' dan 'Close'\n",
    "        order (tuple): ARIMA(p,d,q) parameter\n",
    "        test_size (float): Proporsi data yang digunakan sebagai test\n",
    "    \n",
    "    Returns:\n",
    "        dict: hasil evaluasi dan prediksi\n",
    "    \"\"\"\n",
    "    df = data.copy()\n",
    "    df = df.sort_values('Date')\n",
    "    df.set_index('Date', inplace=True)\n",
    "    \n",
    "    # Hanya gunakan kolom Close\n",
    "    series = df['Close']\n",
    "    \n",
    "    # Train-test split\n",
    "    split_index = int(len(series) * (1 - test_size))\n",
    "    train, test = series[:split_index], series[split_index:]\n",
    "    \n",
    "    # Fit ARIMA\n",
    "    model = ARIMA(train, order=order)\n",
    "    model_fit = model.fit()\n",
    "    \n",
    "    # Forecast sepanjang test set\n",
    "    forecast = model_fit.forecast(steps=len(test))\n",
    "    \n",
    "    # Evaluation\n",
    "    rmse = np.sqrt(mean_squared_error(test, forecast))\n",
    "    mae = mean_absolute_error(test, forecast)\n",
    "    r2 = r2_score(test, forecast)\n",
    "\n",
    "    # Plot\n",
    "    plt.figure(figsize=(12, 5))\n",
    "    plt.plot(train.index, train, label='Train')\n",
    "    plt.plot(test.index, test, label='Actual')\n",
    "    plt.plot(test.index, forecast, label='Forecast')\n",
    "    plt.title(f\"ARIMA{order} Forecast\")\n",
    "    plt.xlabel(\"Date\")\n",
    "    plt.ylabel(\"Close Price\")\n",
    "    plt.legend()\n",
    "    plt.grid(True)\n",
    "    plt.tight_layout()\n",
    "    plt.show()\n",
    "\n",
    "    return {\n",
    "        \"y_true\": test.values,\n",
    "        \"y_pred\": forecast.values,\n",
    "        \"rmse\": rmse,\n",
    "        \"mae\": mae,\n",
    "        \"r2\": r2\n",
    "    }\n"
   ]
  },
  {
   "cell_type": "code",
   "execution_count": 30,
   "id": "3abfc4a8",
   "metadata": {},
   "outputs": [
    {
     "name": "stderr",
     "output_type": "stream",
     "text": [
      "c:\\Users\\afifa\\AppData\\Local\\Programs\\Python\\Python313\\Lib\\site-packages\\statsmodels\\tsa\\base\\tsa_model.py:473: ValueWarning: A date index has been provided, but it has no associated frequency information and so will be ignored when e.g. forecasting.\n",
      "  self._init_dates(dates, freq)\n",
      "c:\\Users\\afifa\\AppData\\Local\\Programs\\Python\\Python313\\Lib\\site-packages\\statsmodels\\tsa\\base\\tsa_model.py:473: ValueWarning: A date index has been provided, but it has no associated frequency information and so will be ignored when e.g. forecasting.\n",
      "  self._init_dates(dates, freq)\n",
      "c:\\Users\\afifa\\AppData\\Local\\Programs\\Python\\Python313\\Lib\\site-packages\\statsmodels\\tsa\\base\\tsa_model.py:473: ValueWarning: A date index has been provided, but it has no associated frequency information and so will be ignored when e.g. forecasting.\n",
      "  self._init_dates(dates, freq)\n",
      "c:\\Users\\afifa\\AppData\\Local\\Programs\\Python\\Python313\\Lib\\site-packages\\statsmodels\\tsa\\base\\tsa_model.py:837: ValueWarning: No supported index is available. Prediction results will be given with an integer index beginning at `start`.\n",
      "  return get_prediction_index(\n",
      "c:\\Users\\afifa\\AppData\\Local\\Programs\\Python\\Python313\\Lib\\site-packages\\statsmodels\\tsa\\base\\tsa_model.py:837: FutureWarning: No supported index is available. In the next version, calling this method in a model without a supported index will result in an exception.\n",
      "  return get_prediction_index(\n"
     ]
    },
    {
     "data": {
      "image/png": "[encoded data removed]",
      "text/plain": [
       "<Figure size 1200x500 with 1 Axes>"
      ]
     },
     "metadata": {},
     "output_type": "display_data"
    },
    {
     "name": "stdout",
     "output_type": "stream",
     "text": [
      "[ARIMA Evaluation]\n",
      "RMSE: 751.68\n",
      "MAE : 646.45\n",
      "R²  : -0.3595\n"
     ]
    }
   ],
   "source": [
    "arima_result = run_arima_forecast(data, order=(5,1,0))\n",
    "print(f\"[ARIMA Evaluation]\")\n",
    "print(f\"RMSE: {arima_result['rmse']:.2f}\")\n",
    "print(f\"MAE : {arima_result['mae']:.2f}\")\n",
    "print(f\"R²  : {arima_result['r2']:.4f}\")\n"
   ]
  },
  {
   "cell_type": "markdown",
   "id": "947e1d92",
   "metadata": {},
   "source": []
  },
  {
   "cell_type": "code",
   "execution_count": null,
   "id": "13f322e9",
   "metadata": {},
   "outputs": [],
   "source": [
    "pip install prophet"
   ]
  },
  {
   "cell_type": "code",
   "execution_count": 1,
   "id": "17e5d2a1",
   "metadata": {},
   "outputs": [
    {
     "name": "stderr",
     "output_type": "stream",
     "text": [
      "c:\\Users\\afifa\\AppData\\Local\\Programs\\Python\\Python313\\Lib\\site-packages\\tqdm\\auto.py:21: TqdmWarning: IProgress not found. Please update jupyter and ipywidgets. See https://ipywidgets.readthedocs.io/en/stable/user_install.html\n",
      "  from .autonotebook import tqdm as notebook_tqdm\n",
      "Importing plotly failed. Interactive plots will not work.\n"
     ]
    }
   ],
   "source": [
    "from prophet import Prophet\n",
    "from sklearn.metrics import mean_squared_error, mean_absolute_error, r2_score\n",
    "import matplotlib.pyplot as plt\n",
    "import numpy as np\n",
    "\n",
    "def run_prophet_forecast(data, test_size=0.2):\n",
    "    \"\"\"\n",
    "    Melatih dan mengevaluasi model Prophet.\n",
    "    \n",
    "    Returns:\n",
    "        dict: hasil evaluasi dan prediksi\n",
    "    \"\"\"\n",
    "    df = data.copy()\n",
    "    df = df.rename(columns={\"Date\": \"ds\", \"Close\": \"y\"})\n",
    "    df = df[[\"ds\", \"y\"]].sort_values(\"ds\")\n",
    "    \n",
    "    split_index = int(len(df) * (1 - test_size))\n",
    "    train_df = df.iloc[:split_index]\n",
    "    test_df = df.iloc[split_index:]\n",
    "    \n",
    "    model = Prophet()\n",
    "    model.fit(train_df)\n",
    "    \n",
    "    future = model.make_future_dataframe(periods=len(test_df))\n",
    "    forecast = model.predict(future)\n",
    "    \n",
    "    # Ambil hanya prediksi yang sesuai dengan test set\n",
    "    y_pred = forecast.iloc[-len(test_df):]['yhat'].values\n",
    "    y_true = test_df['y'].values\n",
    "    \n",
    "    rmse = np.sqrt(mean_squared_error(y_true, y_pred))\n",
    "    mae = mean_absolute_error(y_true, y_pred)\n",
    "    r2 = r2_score(y_true, y_pred)\n",
    "    \n",
    "    # Plot\n",
    "    plt.figure(figsize=(12, 5))\n",
    "    plt.plot(train_df['ds'], train_df['y'], label=\"Train\")\n",
    "    plt.plot(test_df['ds'], y_true, label=\"Actual\")\n",
    "    plt.plot(test_df['ds'], y_pred, label=\"Forecast\")\n",
    "    plt.title(\"Facebook Prophet Forecast\")\n",
    "    plt.xlabel(\"Date\")\n",
    "    plt.ylabel(\"Close Price\")\n",
    "    plt.legend()\n",
    "    plt.grid(True)\n",
    "    plt.tight_layout()\n",
    "    plt.show()\n",
    "    \n",
    "    return {\n",
    "        \"y_true\": y_true,\n",
    "        \"y_pred\": y_pred,\n",
    "        \"rmse\": rmse,\n",
    "        \"mae\": mae,\n",
    "        \"r2\": r2\n",
    "    }\n"
   ]
  },
  {
   "cell_type": "code",
   "execution_count": 2,
   "id": "36edd7b6",
   "metadata": {},
   "outputs": [
    {
     "ename": "NameError",
     "evalue": "name 'data' is not defined",
     "output_type": "error",
     "traceback": [
      "\u001b[31m---------------------------------------------------------------------------\u001b[39m",
      "\u001b[31mNameError\u001b[39m                                 Traceback (most recent call last)",
      "\u001b[36mCell\u001b[39m\u001b[36m \u001b[39m\u001b[32mIn[2]\u001b[39m\u001b[32m, line 1\u001b[39m\n\u001b[32m----> \u001b[39m\u001b[32m1\u001b[39m prophet_result = run_prophet_forecast(\u001b[43mdata\u001b[49m)\n\u001b[32m      3\u001b[39m \u001b[38;5;28mprint\u001b[39m(\u001b[33m\"\u001b[39m\u001b[33m[Facebook Prophet Evaluation]\u001b[39m\u001b[33m\"\u001b[39m)\n\u001b[32m      4\u001b[39m \u001b[38;5;28mprint\u001b[39m(\u001b[33mf\u001b[39m\u001b[33m\"\u001b[39m\u001b[33mRMSE: \u001b[39m\u001b[38;5;132;01m{\u001b[39;00mprophet_result[\u001b[33m'\u001b[39m\u001b[33mrmse\u001b[39m\u001b[33m'\u001b[39m]\u001b[38;5;132;01m:\u001b[39;00m\u001b[33m.2f\u001b[39m\u001b[38;5;132;01m}\u001b[39;00m\u001b[33m\"\u001b[39m)\n",
      "\u001b[31mNameError\u001b[39m: name 'data' is not defined"
     ]
    }
   ],
   "source": [
    "prophet_result = run_prophet_forecast(data)\n",
    "\n",
    "print(\"[Facebook Prophet Evaluation]\")\n",
    "print(f\"RMSE: {prophet_result['rmse']:.2f}\")\n",
    "print(f\"MAE : {prophet_result['mae']:.2f}\")\n",
    "print(f\"R²  : {prophet_result['r2']:.4f}\")\n"
   ]
  },
  {
   "cell_type": "code",
   "execution_count": null,
   "id": "a87772b7",
   "metadata": {},
   "outputs": [],
   "source": [
    "import numpy as np\n",
    "from sklearn.preprocessing import MinMaxScaler\n",
    "\n",
    "def create_lstm_dataset(series, window_size=10):\n",
    "    \"\"\"\n",
    "    Membuat dataset dalam bentuk X, y untuk LSTM.\n",
    "    \"\"\"\n",
    "    X, y = [], []\n",
    "    for i in range(len(series) - window_size):\n",
    "        X.append(series[i:i+window_size])\n",
    "        y.append(series[i+window_size])\n",
    "    return np.array(X), np.array(y)\n"
   ]
  },
  {
   "cell_type": "code",
   "execution_count": null,
   "id": "aaec1ec4",
   "metadata": {},
   "outputs": [],
   "source": [
    "# Ambil hanya kolom Close\n",
    "close_prices = data['Close'].values.reshape(-1, 1)\n",
    "\n",
    "# Scaling\n",
    "scaler = MinMaxScaler()\n",
    "scaled_close = scaler.fit_transform(close_prices)\n",
    "\n",
    "# Buat sequences\n",
    "window_size = 10\n",
    "X, y = create_lstm_dataset(scaled_close, window_size)\n",
    "\n",
    "# Split manual\n",
    "split_index = int(len(X) * 0.8)\n",
    "X_train, y_train = X[:split_index], y[:split_index]\n",
    "X_test, y_test = X[split_index:], y[split_index:]\n",
    "\n",
    "# Reshape input agar sesuai LSTM: [samples, time steps, features]\n",
    "X_train = X_train.reshape((X_train.shape[0], X_train.shape[1], 1))\n",
    "X_test = X_test.reshape((X_test.shape[0], X_test.shape[1], 1))\n"
   ]
  },
  {
   "cell_type": "code",
   "execution_count": null,
   "id": "5cda0350",
   "metadata": {},
   "outputs": [],
   "source": [
    "pip install tensorflow"
   ]
  },
  {
   "cell_type": "code",
   "execution_count": null,
   "id": "b1c97d0f",
   "metadata": {},
   "outputs": [
    {
     "name": "stderr",
     "output_type": "stream",
     "text": [
      "c:\\Users\\afifa\\AppData\\Local\\Programs\\Python\\Python313\\Lib\\site-packages\\keras\\src\\layers\\rnn\\rnn.py:199: UserWarning: Do not pass an `input_shape`/`input_dim` argument to a layer. When using Sequential models, prefer using an `Input(shape)` object as the first layer in the model instead.\n",
      "  super().__init__(**kwargs)\n"
     ]
    }
   ],
   "source": [
    "from tensorflow.keras.models import Sequential\n",
    "from tensorflow.keras.layers import LSTM, Dense\n",
    "\n",
    "def build_lstm_model(input_shape):\n",
    "    model = Sequential()\n",
    "    model.add(LSTM(64, input_shape=input_shape, return_sequences=False))\n",
    "    model.add(Dense(1))\n",
    "    model.compile(optimizer='adam', loss='mse')\n",
    "    return model\n",
    "\n",
    "\n",
    "model = build_lstm_model((window_size, 1))\n"
   ]
  },
  {
   "cell_type": "code",
   "execution_count": null,
   "id": "cab4a2aa",
   "metadata": {},
   "outputs": [],
   "source": []
  },
  {
   "cell_type": "code",
   "execution_count": null,
   "id": "19b8c75a",
   "metadata": {},
   "outputs": [
    {
     "name": "stdout",
     "output_type": "stream",
     "text": [
      "Epoch 1/20\n",
      "\u001b[1m34/34\u001b[0m \u001b[32m━━━━━━━━━━━━━━━━━━━━\u001b[0m\u001b[37m\u001b[0m \u001b[1m2s\u001b[0m 14ms/step - loss: 0.0426 - val_loss: 0.0193\n",
      "Epoch 2/20\n",
      "\u001b[1m34/34\u001b[0m \u001b[32m━━━━━━━━━━━━━━━━━━━━\u001b[0m\u001b[37m\u001b[0m \u001b[1m0s\u001b[0m 8ms/step - loss: 0.0025 - val_loss: 0.0028\n",
      "Epoch 3/20\n",
      "\u001b[1m34/34\u001b[0m \u001b[32m━━━━━━━━━━━━━━━━━━━━\u001b[0m\u001b[37m\u001b[0m \u001b[1m0s\u001b[0m 8ms/step - loss: 0.0010 - val_loss: 0.0012\n",
      "Epoch 4/20\n",
      "\u001b[1m34/34\u001b[0m \u001b[32m━━━━━━━━━━━━━━━━━━━━\u001b[0m\u001b[37m\u001b[0m \u001b[1m0s\u001b[0m 8ms/step - loss: 7.1423e-04 - val_loss: 0.0013\n",
      "Epoch 5/20\n",
      "\u001b[1m34/34\u001b[0m \u001b[32m━━━━━━━━━━━━━━━━━━━━\u001b[0m\u001b[37m\u001b[0m \u001b[1m0s\u001b[0m 9ms/step - loss: 7.0179e-04 - val_loss: 0.0013\n",
      "Epoch 6/20\n",
      "\u001b[1m34/34\u001b[0m \u001b[32m━━━━━━━━━━━━━━━━━━━━\u001b[0m\u001b[37m\u001b[0m \u001b[1m0s\u001b[0m 8ms/step - loss: 6.8988e-04 - val_loss: 0.0012\n",
      "Epoch 7/20\n",
      "\u001b[1m34/34\u001b[0m \u001b[32m━━━━━━━━━━━━━━━━━━━━\u001b[0m\u001b[37m\u001b[0m \u001b[1m0s\u001b[0m 8ms/step - loss: 6.9908e-04 - val_loss: 0.0011\n",
      "Epoch 8/20\n",
      "\u001b[1m34/34\u001b[0m \u001b[32m━━━━━━━━━━━━━━━━━━━━\u001b[0m\u001b[37m\u001b[0m \u001b[1m0s\u001b[0m 8ms/step - loss: 6.8086e-04 - val_loss: 0.0011\n",
      "Epoch 9/20\n",
      "\u001b[1m34/34\u001b[0m \u001b[32m━━━━━━━━━━━━━━━━━━━━\u001b[0m\u001b[37m\u001b[0m \u001b[1m0s\u001b[0m 7ms/step - loss: 6.7513e-04 - val_loss: 0.0011\n",
      "Epoch 10/20\n",
      "\u001b[1m34/34\u001b[0m \u001b[32m━━━━━━━━━━━━━━━━━━━━\u001b[0m\u001b[37m\u001b[0m \u001b[1m0s\u001b[0m 7ms/step - loss: 6.8303e-04 - val_loss: 0.0013\n",
      "Epoch 11/20\n",
      "\u001b[1m34/34\u001b[0m \u001b[32m━━━━━━━━━━━━━━━━━━━━\u001b[0m\u001b[37m\u001b[0m \u001b[1m0s\u001b[0m 8ms/step - loss: 6.7171e-04 - val_loss: 0.0012\n",
      "Epoch 12/20\n",
      "\u001b[1m34/34\u001b[0m \u001b[32m━━━━━━━━━━━━━━━━━━━━\u001b[0m\u001b[37m\u001b[0m \u001b[1m0s\u001b[0m 8ms/step - loss: 6.6124e-04 - val_loss: 0.0011\n",
      "Epoch 13/20\n",
      "\u001b[1m34/34\u001b[0m \u001b[32m━━━━━━━━━━━━━━━━━━━━\u001b[0m\u001b[37m\u001b[0m \u001b[1m0s\u001b[0m 8ms/step - loss: 6.5780e-04 - val_loss: 0.0012\n",
      "Epoch 14/20\n",
      "\u001b[1m34/34\u001b[0m \u001b[32m━━━━━━━━━━━━━━━━━━━━\u001b[0m\u001b[37m\u001b[0m \u001b[1m0s\u001b[0m 8ms/step - loss: 6.4880e-04 - val_loss: 0.0012\n",
      "Epoch 15/20\n",
      "\u001b[1m34/34\u001b[0m \u001b[32m━━━━━━━━━━━━━━━━━━━━\u001b[0m\u001b[37m\u001b[0m \u001b[1m0s\u001b[0m 9ms/step - loss: 6.5080e-04 - val_loss: 0.0010\n",
      "Epoch 16/20\n",
      "\u001b[1m34/34\u001b[0m \u001b[32m━━━━━━━━━━━━━━━━━━━━\u001b[0m\u001b[37m\u001b[0m \u001b[1m0s\u001b[0m 7ms/step - loss: 6.3695e-04 - val_loss: 0.0011\n",
      "Epoch 17/20\n",
      "\u001b[1m34/34\u001b[0m \u001b[32m━━━━━━━━━━━━━━━━━━━━\u001b[0m\u001b[37m\u001b[0m \u001b[1m0s\u001b[0m 8ms/step - loss: 6.6305e-04 - val_loss: 9.8283e-04\n",
      "Epoch 18/20\n",
      "\u001b[1m34/34\u001b[0m \u001b[32m━━━━━━━━━━━━━━━━━━━━\u001b[0m\u001b[37m\u001b[0m \u001b[1m0s\u001b[0m 9ms/step - loss: 6.3661e-04 - val_loss: 0.0010\n",
      "Epoch 19/20\n",
      "\u001b[1m34/34\u001b[0m \u001b[32m━━━━━━━━━━━━━━━━━━━━\u001b[0m\u001b[37m\u001b[0m \u001b[1m0s\u001b[0m 8ms/step - loss: 6.3152e-04 - val_loss: 9.6635e-04\n",
      "Epoch 20/20\n",
      "\u001b[1m34/34\u001b[0m \u001b[32m━━━━━━━━━━━━━━━━━━━━\u001b[0m\u001b[37m\u001b[0m \u001b[1m0s\u001b[0m 8ms/step - loss: 6.4130e-04 - val_loss: 9.5263e-04\n"
     ]
    }
   ],
   "source": [
    "history = model.fit(X_train, y_train, epochs=20, batch_size=32, validation_data=(X_test, y_test), verbose=1)\n"
   ]
  },
  {
   "cell_type": "code",
   "execution_count": null,
   "id": "024e1afc",
   "metadata": {},
   "outputs": [
    {
     "name": "stdout",
     "output_type": "stream",
     "text": [
      "\u001b[1m9/9\u001b[0m \u001b[32m━━━━━━━━━━━━━━━━━━━━\u001b[0m\u001b[37m\u001b[0m \u001b[1m0s\u001b[0m 19ms/step\n",
      "[LSTM Evaluation]\n",
      "RMSE: 207.28\n",
      "MAE : 167.24\n",
      "R²  : 0.8970\n"
     ]
    }
   ],
   "source": [
    "from sklearn.metrics import mean_squared_error, mean_absolute_error, r2_score\n",
    "\n",
    "# Prediksi\n",
    "y_pred_scaled = model.predict(X_test)\n",
    "\n",
    "# Balik scaling\n",
    "y_pred = scaler.inverse_transform(y_pred_scaled)\n",
    "y_test_inv = scaler.inverse_transform(y_test.reshape(-1, 1))\n",
    "\n",
    "# Evaluasi\n",
    "rmse = np.sqrt(mean_squared_error(y_test_inv, y_pred))\n",
    "mae = mean_absolute_error(y_test_inv, y_pred)\n",
    "r2 = r2_score(y_test_inv, y_pred)\n",
    "\n",
    "print(\"[LSTM Evaluation]\")\n",
    "print(f\"RMSE: {rmse:.2f}\")\n",
    "print(f\"MAE : {mae:.2f}\")\n",
    "print(f\"R²  : {r2:.4f}\")\n"
   ]
  },
  {
   "cell_type": "code",
   "execution_count": null,
   "id": "c69f81dd",
   "metadata": {},
   "outputs": [
    {
     "data": {
      "image/png": "[encoded data removed]",
      "text/plain": [
       "<Figure size 1200x500 with 1 Axes>"
      ]
     },
     "metadata": {},
     "output_type": "display_data"
    }
   ],
   "source": [
    "import matplotlib.pyplot as plt\n",
    "\n",
    "plt.figure(figsize=(12,5))\n",
    "plt.plot(y_test_inv, label=\"Actual\")\n",
    "plt.plot(y_pred, label=\"Predicted\")\n",
    "plt.title(\"LSTM Forecast vs Actual\")\n",
    "plt.xlabel(\"Time Step\")\n",
    "plt.ylabel(\"Close Price\")\n",
    "plt.legend()\n",
    "plt.grid(True)\n",
    "plt.tight_layout()\n",
    "plt.show()\n"
   ]
  },
  {
   "cell_type": "markdown",
   "id": "2f01dc11",
   "metadata": {},
   "source": [
    "# Tunning"
   ]
  },
  {
   "cell_type": "markdown",
   "id": "fa6b4105",
   "metadata": {},
   "source": []
  },
  {
   "cell_type": "code",
   "execution_count": null,
   "id": "9a5ce579",
   "metadata": {},
   "outputs": [],
   "source": [
    "import numpy as np\n",
    "import pandas as pd\n",
    "from sklearn.metrics import mean_squared_error, mean_absolute_error, r2_score\n",
    "from sklearn.preprocessing import MinMaxScaler\n",
    "\n",
    "import tensorflow as tf\n",
    "from tensorflow.keras.models import Sequential\n",
    "from tensorflow.keras.layers import LSTM, Dense, Dropout\n",
    "from tensorflow.keras.optimizers import Adam\n",
    "from tensorflow.keras.callbacks import EarlyStopping\n",
    "\n",
    "# Fungsi ubah ke supervised sequence\n",
    "def create_sequences(X, y, window_size):\n",
    "    Xs, ys = [], []\n",
    "    for i in range(len(X) - window_size):\n",
    "        Xs.append(X[i:i+window_size])\n",
    "        ys.append(y[i+window_size])\n",
    "    return np.array(Xs), np.array(ys)\n"
   ]
  },
  {
   "cell_type": "code",
   "execution_count": null,
   "id": "732412a1",
   "metadata": {},
   "outputs": [
    {
     "data": {
      "text/html": [
       "<div>\n",
       "<style scoped>\n",
       "    .dataframe tbody tr th:only-of-type {\n",
       "        vertical-align: middle;\n",
       "    }\n",
       "\n",
       "    .dataframe tbody tr th {\n",
       "        vertical-align: top;\n",
       "    }\n",
       "\n",
       "    .dataframe thead th {\n",
       "        text-align: right;\n",
       "    }\n",
       "</style>\n",
       "<table border=\"1\" class=\"dataframe\">\n",
       "  <thead>\n",
       "    <tr style=\"text-align: right;\">\n",
       "      <th>Price</th>\n",
       "      <th>Date</th>\n",
       "      <th>Open</th>\n",
       "      <th>High</th>\n",
       "      <th>Low</th>\n",
       "      <th>Close</th>\n",
       "      <th>Volume</th>\n",
       "    </tr>\n",
       "  </thead>\n",
       "  <tbody>\n",
       "    <tr>\n",
       "      <th>0</th>\n",
       "      <td>2020-01-02</td>\n",
       "      <td>5825.277226</td>\n",
       "      <td>5899.235190</td>\n",
       "      <td>5812.225821</td>\n",
       "      <td>5820.926758</td>\n",
       "      <td>49445000</td>\n",
       "    </tr>\n",
       "    <tr>\n",
       "      <th>1</th>\n",
       "      <td>2020-01-03</td>\n",
       "      <td>5873.133006</td>\n",
       "      <td>5916.637695</td>\n",
       "      <td>5851.380662</td>\n",
       "      <td>5916.637695</td>\n",
       "      <td>47755500</td>\n",
       "    </tr>\n",
       "    <tr>\n",
       "      <th>2</th>\n",
       "      <td>2020-01-06</td>\n",
       "      <td>5847.030136</td>\n",
       "      <td>5873.132950</td>\n",
       "      <td>5820.927323</td>\n",
       "      <td>5860.081543</td>\n",
       "      <td>27300000</td>\n",
       "    </tr>\n",
       "    <tr>\n",
       "      <th>3</th>\n",
       "      <td>2020-01-07</td>\n",
       "      <td>5860.081660</td>\n",
       "      <td>5890.534943</td>\n",
       "      <td>5855.731191</td>\n",
       "      <td>5864.432129</td>\n",
       "      <td>45022500</td>\n",
       "    </tr>\n",
       "    <tr>\n",
       "      <th>4</th>\n",
       "      <td>2020-01-08</td>\n",
       "      <td>5803.525625</td>\n",
       "      <td>5868.782659</td>\n",
       "      <td>5803.525625</td>\n",
       "      <td>5812.226562</td>\n",
       "      <td>53692500</td>\n",
       "    </tr>\n",
       "    <tr>\n",
       "      <th>...</th>\n",
       "      <td>...</td>\n",
       "      <td>...</td>\n",
       "      <td>...</td>\n",
       "      <td>...</td>\n",
       "      <td>...</td>\n",
       "      <td>...</td>\n",
       "    </tr>\n",
       "    <tr>\n",
       "      <th>1336</th>\n",
       "      <td>2025-07-25</td>\n",
       "      <td>8500.000000</td>\n",
       "      <td>8525.000000</td>\n",
       "      <td>8450.000000</td>\n",
       "      <td>8450.000000</td>\n",
       "      <td>58682800</td>\n",
       "    </tr>\n",
       "    <tr>\n",
       "      <th>1337</th>\n",
       "      <td>2025-07-28</td>\n",
       "      <td>8625.000000</td>\n",
       "      <td>8625.000000</td>\n",
       "      <td>8475.000000</td>\n",
       "      <td>8500.000000</td>\n",
       "      <td>99484300</td>\n",
       "    </tr>\n",
       "    <tr>\n",
       "      <th>1338</th>\n",
       "      <td>2025-07-29</td>\n",
       "      <td>8500.000000</td>\n",
       "      <td>8500.000000</td>\n",
       "      <td>8375.000000</td>\n",
       "      <td>8400.000000</td>\n",
       "      <td>104240300</td>\n",
       "    </tr>\n",
       "    <tr>\n",
       "      <th>1339</th>\n",
       "      <td>2025-07-30</td>\n",
       "      <td>8475.000000</td>\n",
       "      <td>8475.000000</td>\n",
       "      <td>8325.000000</td>\n",
       "      <td>8375.000000</td>\n",
       "      <td>98098100</td>\n",
       "    </tr>\n",
       "    <tr>\n",
       "      <th>1340</th>\n",
       "      <td>2025-07-31</td>\n",
       "      <td>8350.000000</td>\n",
       "      <td>8375.000000</td>\n",
       "      <td>8250.000000</td>\n",
       "      <td>8275.000000</td>\n",
       "      <td>206006300</td>\n",
       "    </tr>\n",
       "  </tbody>\n",
       "</table>\n",
       "<p>1341 rows × 6 columns</p>\n",
       "</div>"
      ],
      "text/plain": [
       "Price       Date         Open         High          Low        Close  \\\n",
       "0     2020-01-02  5825.277226  5899.235190  5812.225821  5820.926758   \n",
       "1     2020-01-03  5873.133006  5916.637695  5851.380662  5916.637695   \n",
       "2     2020-01-06  5847.030136  5873.132950  5820.927323  5860.081543   \n",
       "3     2020-01-07  5860.081660  5890.534943  5855.731191  5864.432129   \n",
       "4     2020-01-08  5803.525625  5868.782659  5803.525625  5812.226562   \n",
       "...          ...          ...          ...          ...          ...   \n",
       "1336  2025-07-25  8500.000000  8525.000000  8450.000000  8450.000000   \n",
       "1337  2025-07-28  8625.000000  8625.000000  8475.000000  8500.000000   \n",
       "1338  2025-07-29  8500.000000  8500.000000  8375.000000  8400.000000   \n",
       "1339  2025-07-30  8475.000000  8475.000000  8325.000000  8375.000000   \n",
       "1340  2025-07-31  8350.000000  8375.000000  8250.000000  8275.000000   \n",
       "\n",
       "Price     Volume  \n",
       "0       49445000  \n",
       "1       47755500  \n",
       "2       27300000  \n",
       "3       45022500  \n",
       "4       53692500  \n",
       "...          ...  \n",
       "1336    58682800  \n",
       "1337    99484300  \n",
       "1338   104240300  \n",
       "1339    98098100  \n",
       "1340   206006300  \n",
       "\n",
       "[1341 rows x 6 columns]"
      ]
     },
     "execution_count": 43,
     "metadata": {},
     "output_type": "execute_result"
    }
   ],
   "source": [
    "data"
   ]
  },
  {
   "cell_type": "code",
   "execution_count": null,
   "id": "df9a2cb2",
   "metadata": {},
   "outputs": [
    {
     "name": "stdout",
     "output_type": "stream",
     "text": [
      "Train shape: (1072, 6)\n",
      "Test shape: (269, 6)\n"
     ]
    }
   ],
   "source": [
    "# Func train test split\n",
    "def time_series_train_test_split(df, test_size=0.2):\n",
    "    df = df.copy()\n",
    "    split_index = int(len(df) * (1 - test_size))\n",
    "    \n",
    "    train_df = df.iloc[:split_index]\n",
    "    test_df = df.iloc[split_index:]\n",
    "    \n",
    "    return train_df, test_df\n",
    "\n",
    "# running\n",
    "train_df, test_df = time_series_train_test_split(data, test_size=0.2)\n",
    "print(\"Train shape:\", train_df.shape)\n",
    "print(\"Test shape:\", test_df.shape)\n",
    "# Splitting kolom Target\n",
    "def split_X_y(df, target_col=\"Close\", drop_cols=[\"Date\"]):\n",
    "    feature_cols = [col for col in df.columns if col not in drop_cols + [target_col]]\n",
    "    X = df[feature_cols]\n",
    "    y = df[target_col]\n",
    "    return X, y\n",
    "X_train, y_train = split_X_y(train_df)\n",
    "X_test, y_test = split_X_y(test_df)"
   ]
  },
  {
   "cell_type": "code",
   "execution_count": null,
   "id": "ce949007",
   "metadata": {},
   "outputs": [],
   "source": [
    "# Normalisasi\n",
    "scaler = MinMaxScaler()\n",
    "X_train_scaled = scaler.fit_transform(X_train)\n",
    "X_test_scaled = scaler.transform(X_test)\n",
    "\n",
    "# Ubah ke sequence\n",
    "window_size = 10  # bisa kamu tuning\n",
    "X_train_seq, y_train_seq = create_sequences(X_train_scaled, y_train.values, window_size)\n",
    "X_test_seq, y_test_seq = create_sequences(X_test_scaled, y_test.values, window_size)\n"
   ]
  },
  {
   "cell_type": "code",
   "execution_count": null,
   "id": "85f9f258",
   "metadata": {},
   "outputs": [
    {
     "name": "stdout",
     "output_type": "stream",
     "text": [
      "Epoch 1/50\n"
     ]
    },
    {
     "name": "stderr",
     "output_type": "stream",
     "text": [
      "c:\\Users\\afifa\\AppData\\Local\\Programs\\Python\\Python313\\Lib\\site-packages\\keras\\src\\layers\\rnn\\rnn.py:199: UserWarning: Do not pass an `input_shape`/`input_dim` argument to a layer. When using Sequential models, prefer using an `Input(shape)` object as the first layer in the model instead.\n",
      "  super().__init__(**kwargs)\n"
     ]
    },
    {
     "name": "stdout",
     "output_type": "stream",
     "text": [
      "\u001b[1m30/30\u001b[0m \u001b[32m━━━━━━━━━━━━━━━━━━━━\u001b[0m\u001b[37m\u001b[0m \u001b[1m2s\u001b[0m 16ms/step - loss: 46926072.0000 - val_loss: 84748688.0000\n",
      "Epoch 2/50\n",
      "\u001b[1m30/30\u001b[0m \u001b[32m━━━━━━━━━━━━━━━━━━━━\u001b[0m\u001b[37m\u001b[0m \u001b[1m0s\u001b[0m 8ms/step - loss: 46813772.0000 - val_loss: 84635704.0000\n",
      "Epoch 3/50\n",
      "\u001b[1m30/30\u001b[0m \u001b[32m━━━━━━━━━━━━━━━━━━━━\u001b[0m\u001b[37m\u001b[0m \u001b[1m0s\u001b[0m 8ms/step - loss: 46755100.0000 - val_loss: 84581736.0000\n",
      "Epoch 4/50\n",
      "\u001b[1m30/30\u001b[0m \u001b[32m━━━━━━━━━━━━━━━━━━━━\u001b[0m\u001b[37m\u001b[0m \u001b[1m0s\u001b[0m 8ms/step - loss: 46721336.0000 - val_loss: 84538376.0000\n",
      "Epoch 5/50\n",
      "\u001b[1m30/30\u001b[0m \u001b[32m━━━━━━━━━━━━━━━━━━━━\u001b[0m\u001b[37m\u001b[0m \u001b[1m0s\u001b[0m 7ms/step - loss: 46690140.0000 - val_loss: 84497992.0000\n",
      "Epoch 6/50\n",
      "\u001b[1m30/30\u001b[0m \u001b[32m━━━━━━━━━━━━━━━━━━━━\u001b[0m\u001b[37m\u001b[0m \u001b[1m0s\u001b[0m 7ms/step - loss: 46660388.0000 - val_loss: 84456392.0000\n",
      "Epoch 7/50\n",
      "\u001b[1m30/30\u001b[0m \u001b[32m━━━━━━━━━━━━━━━━━━━━\u001b[0m\u001b[37m\u001b[0m \u001b[1m0s\u001b[0m 8ms/step - loss: 46630636.0000 - val_loss: 84417328.0000\n",
      "Epoch 8/50\n",
      "\u001b[1m30/30\u001b[0m \u001b[32m━━━━━━━━━━━━━━━━━━━━\u001b[0m\u001b[37m\u001b[0m \u001b[1m0s\u001b[0m 8ms/step - loss: 46602192.0000 - val_loss: 84379096.0000\n",
      "Epoch 9/50\n",
      "\u001b[1m30/30\u001b[0m \u001b[32m━━━━━━━━━━━━━━━━━━━━\u001b[0m\u001b[37m\u001b[0m \u001b[1m0s\u001b[0m 8ms/step - loss: 46573496.0000 - val_loss: 84341624.0000\n",
      "Epoch 10/50\n",
      "\u001b[1m30/30\u001b[0m \u001b[32m━━━━━━━━━━━━━━━━━━━━\u001b[0m\u001b[37m\u001b[0m \u001b[1m0s\u001b[0m 9ms/step - loss: 46547528.0000 - val_loss: 84304496.0000\n",
      "Epoch 11/50\n",
      "\u001b[1m30/30\u001b[0m \u001b[32m━━━━━━━━━━━━━━━━━━━━\u001b[0m\u001b[37m\u001b[0m \u001b[1m0s\u001b[0m 10ms/step - loss: 46522192.0000 - val_loss: 84267928.0000\n",
      "Epoch 12/50\n",
      "\u001b[1m30/30\u001b[0m \u001b[32m━━━━━━━━━━━━━━━━━━━━\u001b[0m\u001b[37m\u001b[0m \u001b[1m0s\u001b[0m 8ms/step - loss: 46490500.0000 - val_loss: 84231368.0000\n",
      "Epoch 13/50\n",
      "\u001b[1m30/30\u001b[0m \u001b[32m━━━━━━━━━━━━━━━━━━━━\u001b[0m\u001b[37m\u001b[0m \u001b[1m0s\u001b[0m 9ms/step - loss: 46467588.0000 - val_loss: 84195136.0000\n",
      "Epoch 14/50\n",
      "\u001b[1m30/30\u001b[0m \u001b[32m━━━━━━━━━━━━━━━━━━━━\u001b[0m\u001b[37m\u001b[0m \u001b[1m0s\u001b[0m 9ms/step - loss: 46441688.0000 - val_loss: 84159136.0000\n",
      "Epoch 15/50\n",
      "\u001b[1m30/30\u001b[0m \u001b[32m━━━━━━━━━━━━━━━━━━━━\u001b[0m\u001b[37m\u001b[0m \u001b[1m0s\u001b[0m 9ms/step - loss: 46413352.0000 - val_loss: 84123312.0000\n",
      "Epoch 16/50\n",
      "\u001b[1m30/30\u001b[0m \u001b[32m━━━━━━━━━━━━━━━━━━━━\u001b[0m\u001b[37m\u001b[0m \u001b[1m0s\u001b[0m 9ms/step - loss: 46386924.0000 - val_loss: 84087448.0000\n",
      "Epoch 17/50\n",
      "\u001b[1m30/30\u001b[0m \u001b[32m━━━━━━━━━━━━━━━━━━━━\u001b[0m\u001b[37m\u001b[0m \u001b[1m0s\u001b[0m 9ms/step - loss: 46360708.0000 - val_loss: 84050704.0000\n",
      "Epoch 18/50\n",
      "\u001b[1m30/30\u001b[0m \u001b[32m━━━━━━━━━━━━━━━━━━━━\u001b[0m\u001b[37m\u001b[0m \u001b[1m0s\u001b[0m 10ms/step - loss: 46336464.0000 - val_loss: 84013672.0000\n",
      "Epoch 19/50\n",
      "\u001b[1m30/30\u001b[0m \u001b[32m━━━━━━━━━━━━━━━━━━━━\u001b[0m\u001b[37m\u001b[0m \u001b[1m0s\u001b[0m 10ms/step - loss: 46305176.0000 - val_loss: 83976808.0000\n",
      "Epoch 20/50\n",
      "\u001b[1m30/30\u001b[0m \u001b[32m━━━━━━━━━━━━━━━━━━━━\u001b[0m\u001b[37m\u001b[0m \u001b[1m0s\u001b[0m 9ms/step - loss: 46279068.0000 - val_loss: 83940336.0000\n",
      "Epoch 21/50\n",
      "\u001b[1m30/30\u001b[0m \u001b[32m━━━━━━━━━━━━━━━━━━━━\u001b[0m\u001b[37m\u001b[0m \u001b[1m0s\u001b[0m 8ms/step - loss: 46254240.0000 - val_loss: 83903960.0000\n",
      "Epoch 22/50\n",
      "\u001b[1m30/30\u001b[0m \u001b[32m━━━━━━━━━━━━━━━━━━━━\u001b[0m\u001b[37m\u001b[0m \u001b[1m0s\u001b[0m 8ms/step - loss: 46228888.0000 - val_loss: 83867936.0000\n",
      "Epoch 23/50\n",
      "\u001b[1m30/30\u001b[0m \u001b[32m━━━━━━━━━━━━━━━━━━━━\u001b[0m\u001b[37m\u001b[0m \u001b[1m0s\u001b[0m 8ms/step - loss: 46200028.0000 - val_loss: 83832048.0000\n",
      "Epoch 24/50\n",
      "\u001b[1m30/30\u001b[0m \u001b[32m━━━━━━━━━━━━━━━━━━━━\u001b[0m\u001b[37m\u001b[0m \u001b[1m0s\u001b[0m 7ms/step - loss: 46175804.0000 - val_loss: 83796128.0000\n",
      "Epoch 25/50\n",
      "\u001b[1m30/30\u001b[0m \u001b[32m━━━━━━━━━━━━━━━━━━━━\u001b[0m\u001b[37m\u001b[0m \u001b[1m0s\u001b[0m 8ms/step - loss: 46147500.0000 - val_loss: 83760304.0000\n",
      "Epoch 26/50\n",
      "\u001b[1m30/30\u001b[0m \u001b[32m━━━━━━━━━━━━━━━━━━━━\u001b[0m\u001b[37m\u001b[0m \u001b[1m0s\u001b[0m 8ms/step - loss: 46119724.0000 - val_loss: 83724400.0000\n",
      "Epoch 27/50\n",
      "\u001b[1m30/30\u001b[0m \u001b[32m━━━━━━━━━━━━━━━━━━━━\u001b[0m\u001b[37m\u001b[0m \u001b[1m0s\u001b[0m 9ms/step - loss: 46097280.0000 - val_loss: 83688784.0000\n",
      "Epoch 28/50\n",
      "\u001b[1m30/30\u001b[0m \u001b[32m━━━━━━━━━━━━━━━━━━━━\u001b[0m\u001b[37m\u001b[0m \u001b[1m0s\u001b[0m 8ms/step - loss: 46069200.0000 - val_loss: 83653144.0000\n",
      "Epoch 29/50\n",
      "\u001b[1m30/30\u001b[0m \u001b[32m━━━━━━━━━━━━━━━━━━━━\u001b[0m\u001b[37m\u001b[0m \u001b[1m0s\u001b[0m 8ms/step - loss: 46047000.0000 - val_loss: 83617736.0000\n",
      "Epoch 30/50\n",
      "\u001b[1m30/30\u001b[0m \u001b[32m━━━━━━━━━━━━━━━━━━━━\u001b[0m\u001b[37m\u001b[0m \u001b[1m0s\u001b[0m 9ms/step - loss: 46018924.0000 - val_loss: 83582376.0000\n",
      "Epoch 31/50\n",
      "\u001b[1m30/30\u001b[0m \u001b[32m━━━━━━━━━━━━━━━━━━━━\u001b[0m\u001b[37m\u001b[0m \u001b[1m0s\u001b[0m 8ms/step - loss: 45985968.0000 - val_loss: 83546896.0000\n",
      "Epoch 32/50\n",
      "\u001b[1m30/30\u001b[0m \u001b[32m━━━━━━━━━━━━━━━━━━━━\u001b[0m\u001b[37m\u001b[0m \u001b[1m0s\u001b[0m 8ms/step - loss: 45967392.0000 - val_loss: 83511440.0000\n",
      "Epoch 33/50\n",
      "\u001b[1m30/30\u001b[0m \u001b[32m━━━━━━━━━━━━━━━━━━━━\u001b[0m\u001b[37m\u001b[0m \u001b[1m0s\u001b[0m 8ms/step - loss: 45941620.0000 - val_loss: 83476256.0000\n",
      "Epoch 34/50\n",
      "\u001b[1m30/30\u001b[0m \u001b[32m━━━━━━━━━━━━━━━━━━━━\u001b[0m\u001b[37m\u001b[0m \u001b[1m0s\u001b[0m 9ms/step - loss: 45918408.0000 - val_loss: 83441048.0000\n",
      "Epoch 35/50\n",
      "\u001b[1m30/30\u001b[0m \u001b[32m━━━━━━━━━━━━━━━━━━━━\u001b[0m\u001b[37m\u001b[0m \u001b[1m0s\u001b[0m 8ms/step - loss: 45889796.0000 - val_loss: 83405832.0000\n",
      "Epoch 36/50\n",
      "\u001b[1m30/30\u001b[0m \u001b[32m━━━━━━━━━━━━━━━━━━━━\u001b[0m\u001b[37m\u001b[0m \u001b[1m0s\u001b[0m 8ms/step - loss: 45866892.0000 - val_loss: 83370728.0000\n",
      "Epoch 37/50\n",
      "\u001b[1m30/30\u001b[0m \u001b[32m━━━━━━━━━━━━━━━━━━━━\u001b[0m\u001b[37m\u001b[0m \u001b[1m0s\u001b[0m 8ms/step - loss: 45842124.0000 - val_loss: 83335792.0000\n",
      "Epoch 38/50\n",
      "\u001b[1m30/30\u001b[0m \u001b[32m━━━━━━━━━━━━━━━━━━━━\u001b[0m\u001b[37m\u001b[0m \u001b[1m0s\u001b[0m 9ms/step - loss: 45812508.0000 - val_loss: 83300600.0000\n",
      "Epoch 39/50\n",
      "\u001b[1m30/30\u001b[0m \u001b[32m━━━━━━━━━━━━━━━━━━━━\u001b[0m\u001b[37m\u001b[0m \u001b[1m0s\u001b[0m 8ms/step - loss: 45788236.0000 - val_loss: 83265568.0000\n",
      "Epoch 40/50\n",
      "\u001b[1m30/30\u001b[0m \u001b[32m━━━━━━━━━━━━━━━━━━━━\u001b[0m\u001b[37m\u001b[0m \u001b[1m0s\u001b[0m 7ms/step - loss: 45764012.0000 - val_loss: 83230592.0000\n",
      "Epoch 41/50\n",
      "\u001b[1m30/30\u001b[0m \u001b[32m━━━━━━━━━━━━━━━━━━━━\u001b[0m\u001b[37m\u001b[0m \u001b[1m0s\u001b[0m 8ms/step - loss: 45734872.0000 - val_loss: 83195552.0000\n",
      "Epoch 42/50\n",
      "\u001b[1m30/30\u001b[0m \u001b[32m━━━━━━━━━━━━━━━━━━━━\u001b[0m\u001b[37m\u001b[0m \u001b[1m0s\u001b[0m 8ms/step - loss: 45713312.0000 - val_loss: 83160560.0000\n",
      "Epoch 43/50\n",
      "\u001b[1m30/30\u001b[0m \u001b[32m━━━━━━━━━━━━━━━━━━━━\u001b[0m\u001b[37m\u001b[0m \u001b[1m0s\u001b[0m 9ms/step - loss: 45685860.0000 - val_loss: 83125640.0000\n",
      "Epoch 44/50\n",
      "\u001b[1m30/30\u001b[0m \u001b[32m━━━━━━━━━━━━━━━━━━━━\u001b[0m\u001b[37m\u001b[0m \u001b[1m0s\u001b[0m 8ms/step - loss: 45665496.0000 - val_loss: 83090904.0000\n",
      "Epoch 45/50\n",
      "\u001b[1m30/30\u001b[0m \u001b[32m━━━━━━━━━━━━━━━━━━━━\u001b[0m\u001b[37m\u001b[0m \u001b[1m0s\u001b[0m 10ms/step - loss: 45638576.0000 - val_loss: 83056136.0000\n",
      "Epoch 46/50\n",
      "\u001b[1m30/30\u001b[0m \u001b[32m━━━━━━━━━━━━━━━━━━━━\u001b[0m\u001b[37m\u001b[0m \u001b[1m0s\u001b[0m 9ms/step - loss: 45618064.0000 - val_loss: 83021400.0000\n",
      "Epoch 47/50\n",
      "\u001b[1m30/30\u001b[0m \u001b[32m━━━━━━━━━━━━━━━━━━━━\u001b[0m\u001b[37m\u001b[0m \u001b[1m0s\u001b[0m 10ms/step - loss: 45589356.0000 - val_loss: 82986648.0000\n",
      "Epoch 48/50\n",
      "\u001b[1m30/30\u001b[0m \u001b[32m━━━━━━━━━━━━━━━━━━━━\u001b[0m\u001b[37m\u001b[0m \u001b[1m0s\u001b[0m 9ms/step - loss: 45564532.0000 - val_loss: 82951944.0000\n",
      "Epoch 49/50\n",
      "\u001b[1m30/30\u001b[0m \u001b[32m━━━━━━━━━━━━━━━━━━━━\u001b[0m\u001b[37m\u001b[0m \u001b[1m0s\u001b[0m 10ms/step - loss: 45533376.0000 - val_loss: 82917128.0000\n",
      "Epoch 50/50\n",
      "\u001b[1m30/30\u001b[0m \u001b[32m━━━━━━━━━━━━━━━━━━━━\u001b[0m\u001b[37m\u001b[0m \u001b[1m0s\u001b[0m 10ms/step - loss: 45513576.0000 - val_loss: 82882472.0000\n"
     ]
    }
   ],
   "source": [
    "def build_lstm_model(input_shape, n_neurons=64, dropout=0.2, learning_rate=0.001):\n",
    "    model = Sequential()\n",
    "    model.add(LSTM(units=n_neurons, input_shape=input_shape))\n",
    "    model.add(Dropout(dropout))\n",
    "    model.add(Dense(1))\n",
    "    \n",
    "    optimizer = Adam(learning_rate=learning_rate)\n",
    "    model.compile(optimizer=optimizer, loss='mse')\n",
    "    return model\n",
    "\n",
    "# Inisialisasi model\n",
    "input_shape = (X_train_seq.shape[1], X_train_seq.shape[2])\n",
    "model = build_lstm_model(input_shape=input_shape, n_neurons=64, dropout=0.3, learning_rate=0.001)\n",
    "\n",
    "# Training\n",
    "history = model.fit(\n",
    "    X_train_seq, y_train_seq,\n",
    "    epochs=50,\n",
    "    batch_size=32,\n",
    "    validation_split=0.1,\n",
    "    callbacks=[EarlyStopping(patience=10, restore_best_weights=True)],\n",
    "    verbose=1\n",
    ")\n"
   ]
  },
  {
   "cell_type": "code",
   "execution_count": null,
   "id": "5912654b",
   "metadata": {},
   "outputs": [
    {
     "name": "stdout",
     "output_type": "stream",
     "text": [
      "\u001b[1m9/9\u001b[0m \u001b[32m━━━━━━━━━━━━━━━━━━━━\u001b[0m\u001b[37m\u001b[0m \u001b[1m0s\u001b[0m 18ms/step\n",
      "[LSTM Tuned Evaluation]\n",
      "RMSE: 9257.99\n",
      "MAE : 9234.84\n",
      "R²  : -199.2679\n"
     ]
    }
   ],
   "source": [
    "# Prediksi\n",
    "y_pred_seq = model.predict(X_test_seq)\n",
    "\n",
    "# Evaluasi\n",
    "rmse = np.sqrt(mean_squared_error(y_test_seq, y_pred_seq))\n",
    "mae = mean_absolute_error(y_test_seq, y_pred_seq)\n",
    "r2 = r2_score(y_test_seq, y_pred_seq)\n",
    "\n",
    "print(\"[LSTM Tuned Evaluation]\")\n",
    "print(f\"RMSE: {rmse:.2f}\")\n",
    "print(f\"MAE : {mae:.2f}\")\n",
    "print(f\"R²  : {r2:.4f}\")\n"
   ]
  }
 ],
 "metadata": {
  "kernelspec": {
   "display_name": "Python 3",
   "language": "python",
   "name": "python3"
  },
  "language_info": {
   "codemirror_mode": {
    "name": "ipython",
    "version": 3
   },
   "file_extension": ".py",
   "mimetype": "text/x-python",
   "name": "python",
   "nbconvert_exporter": "python",
   "pygments_lexer": "ipython3",
   "version": "3.13.2"
  }
 },
 "nbformat": 4,
 "nbformat_minor": 5
}
